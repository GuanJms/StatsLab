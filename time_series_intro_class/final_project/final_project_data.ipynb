{
 "cells": [
  {
   "metadata": {},
   "cell_type": "markdown",
   "source": "Download data",
   "id": "a449d39f281281ad"
  },
  {
   "cell_type": "code",
   "id": "initial_id",
   "metadata": {
    "collapsed": true,
    "ExecuteTime": {
     "end_time": "2024-12-16T21:57:18.853485Z",
     "start_time": "2024-12-16T21:57:18.353681Z"
    }
   },
   "source": [
    "import yfinance as yf\n",
    "import pandas as pd\n",
    "import numpy as np"
   ],
   "outputs": [],
   "execution_count": 1
  },
  {
   "metadata": {
    "ExecuteTime": {
     "end_time": "2024-12-16T22:00:07.061106Z",
     "start_time": "2024-12-16T22:00:07.000390Z"
    }
   },
   "cell_type": "code",
   "source": [
    "# Download data from Yahoo Finance for BTC and ETH\n",
    "BTC_data = yf.download(\"BTC-USD\", end=\"2024-12-15\", interval=\"1d\")\n",
    "ETH_data = yf.download(\"ETH-USD\", end=\"2024-12-15\", interval=\"1d\")"
   ],
   "id": "d10875e5d8617fb3",
   "outputs": [
    {
     "name": "stderr",
     "output_type": "stream",
     "text": [
      "[*********************100%%**********************]  1 of 1 completed\n",
      "[*********************100%%**********************]  1 of 1 completed\n"
     ]
    }
   ],
   "execution_count": 7
  },
  {
   "metadata": {
    "ExecuteTime": {
     "end_time": "2024-12-16T22:00:23.983032Z",
     "start_time": "2024-12-16T22:00:23.934181Z"
    }
   },
   "cell_type": "code",
   "source": [
    "BTC_data\n",
    "# save data to csv\n",
    "BTC_data.to_csv('BTC_data.csv')\n"
   ],
   "id": "43e2e641c33d6129",
   "outputs": [],
   "execution_count": 10
  },
  {
   "metadata": {
    "ExecuteTime": {
     "end_time": "2024-12-16T22:00:30.357653Z",
     "start_time": "2024-12-16T22:00:30.338587Z"
    }
   },
   "cell_type": "code",
   "source": [
    "ETH_data\n",
    "# save data to csv\n",
    "ETH_data.to_csv('ETH_data.csv')"
   ],
   "id": "952729d25ee22a1a",
   "outputs": [],
   "execution_count": 11
  },
  {
   "metadata": {},
   "cell_type": "code",
   "outputs": [],
   "execution_count": null,
   "source": "",
   "id": "12911c03c46c2460"
  }
 ],
 "metadata": {
  "kernelspec": {
   "display_name": "Python 3",
   "language": "python",
   "name": "python3"
  },
  "language_info": {
   "codemirror_mode": {
    "name": "ipython",
    "version": 2
   },
   "file_extension": ".py",
   "mimetype": "text/x-python",
   "name": "python",
   "nbconvert_exporter": "python",
   "pygments_lexer": "ipython2",
   "version": "2.7.6"
  }
 },
 "nbformat": 4,
 "nbformat_minor": 5
}
