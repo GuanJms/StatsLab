{
 "cells": [
  {
   "metadata": {},
   "cell_type": "markdown",
   "source": "# Statistical Arbitrage Final Project - Gaussian Trading Method",
   "id": "668cf9520c6c1132"
  },
  {
   "metadata": {},
   "cell_type": "markdown",
   "source": "# Data preprocessing",
   "id": "54b6c0ac91d4ef1a"
  },
  {
   "cell_type": "code",
   "id": "initial_id",
   "metadata": {
    "collapsed": true,
    "ExecuteTime": {
     "end_time": "2024-12-17T04:29:48.566321Z",
     "start_time": "2024-12-17T04:29:47.963609Z"
    }
   },
   "source": [
    "import pandas as pd\n",
    "import numpy as np\n",
    "import matplotlib.pyplot as plt\n",
    "\n",
    "df = pd.read_csv('BTC_data.csv', index_col=0, parse_dates=True)\n",
    "df['return'] = df['Close'].pct_change()\n",
    "df.dropna(inplace=True)"
   ],
   "outputs": [],
   "execution_count": 3
  },
  {
   "metadata": {
    "ExecuteTime": {
     "end_time": "2024-12-17T04:29:49.171049Z",
     "start_time": "2024-12-17T04:29:49.168397Z"
    }
   },
   "cell_type": "code",
   "source": [
    "# Divide the data into training and testing set using 80% of the data for training\n",
    "train_size = int(len(df) * 0.8)\n",
    "train, test = df.iloc[:train_size], df.iloc[train_size:]\n",
    "train_return = train['return']\n",
    "test_return = test['return']"
   ],
   "id": "d81672647a6774a3",
   "outputs": [],
   "execution_count": 4
  },
  {
   "metadata": {
    "ExecuteTime": {
     "end_time": "2024-12-17T04:29:50.051054Z",
     "start_time": "2024-12-17T04:29:49.523436Z"
    }
   },
   "cell_type": "code",
   "source": [
    "from sklearn.gaussian_process.kernels import Kernel\n",
    "from sklearn.gaussian_process import GaussianProcessRegressor\n",
    "from sklearn.gaussian_process.kernels import RBF, ConstantKernel as C\n",
    "class FractionalBrownianMotionKernel(Kernel):\n",
    "    def __init__(self, H):\n",
    "        self.H = H\n",
    "\n",
    "    def __call__(self, X, Y=None):\n",
    "        X = np.atleast_2d(X)\n",
    "        two_H = 2 * self.H\n",
    "        Y = X if Y is None else np.atleast_2d(Y)\n",
    "        cov = 0.5 * (np.abs(X) ** two_H + np.abs(Y.T) ** two_H - np.abs(X - Y.T) ** two_H)\n",
    "        return cov\n",
    "\n",
    "    def diag(self, X):\n",
    "        return np.ones(X.shape[0])\n",
    "\n",
    "    def is_stationary(self):\n",
    "        return True\n",
    "    \n",
    "class OUProcessKernel(Kernel):\n",
    "    def __init__(self, alpha, sigma):\n",
    "        self.alpha = max(alpha, 1e-4)\n",
    "        self.sigma = sigma\n",
    "    \n",
    "    def __call__(self, X, Y=None):\n",
    "        X = np.atleast_2d(X)\n",
    "        Y = X if Y is None else np.atleast_2d(Y)\n",
    "        coeff = self.sigma**2 / 2 / self.alpha\n",
    "        cov = coeff * (np.exp(-self.alpha * np.abs(X - Y.T)) - np.exp(-self.alpha * (X + Y.T)))\n",
    "        return cov\n",
    "\n",
    "    def diag(self, X):\n",
    "        return np.ones(X.shape[0])\n",
    "\n",
    "    def is_stationary(self):\n",
    "        return True"
   ],
   "id": "51610a71fbf0ffdf",
   "outputs": [],
   "execution_count": 5
  },
  {
   "metadata": {
    "ExecuteTime": {
     "end_time": "2024-12-17T04:29:50.055564Z",
     "start_time": "2024-12-17T04:29:50.051922Z"
    }
   },
   "cell_type": "code",
   "source": [
    "def fit_log_marginal_likelihood(x, kernel: Kernel):\n",
    "    _x = x.reshape(-1, 1)\n",
    "    _t = np.arange(len(_x))/252\n",
    "    _t = _t.reshape(-1, 1)\n",
    "    gp = GaussianProcessRegressor(kernel=kernel)\n",
    "    gp.fit(_t, _x)\n",
    "    return gp.log_marginal_likelihood_value_\n",
    "\n",
    "def fit_predict_unit_distance_data(x, kernel: Kernel):\n",
    "    _x = x.reshape(-1, 1)\n",
    "    _t = np.arange(len(_x))/252\n",
    "    _t = _t.reshape(-1, 1)\n",
    "    gp = GaussianProcessRegressor(kernel=kernel)\n",
    "    gp.fit(_t, _x)\n",
    "    y_pred, sigma = gp.predict(np.array([_t[-1] + 1 /252]), return_std=True)\n",
    "    return y_pred[0], sigma[0]\n",
    "\n",
    "\n",
    "# expand grid by params\n",
    "def expand_grid(params):\n",
    "    import itertools\n",
    "    keys, values = zip(*params.items())\n",
    "    grid = pd.DataFrame(list(itertools.product(*values)), columns=keys)\n",
    "    return grid    \n",
    "\n",
    "def optimal_kernel_params(params, kernel_class, x):\n",
    "    grid = expand_grid(params)\n",
    "    log_marginal_likelihoods = []\n",
    "    for i in range(len(grid)):\n",
    "        kernel = kernel_class(**grid.iloc[i].to_dict())\n",
    "        log_marginal_likelihoods.append(fit_log_marginal_likelihood(x, kernel))\n",
    "    grid['log_marginal_likelihood'] = log_marginal_likelihoods\n",
    "    grid_max = grid.loc[grid['log_marginal_likelihood'].idxmax()]\n",
    "    return grid_max"
   ],
   "id": "b2e654517f6ddd9e",
   "outputs": [],
   "execution_count": 6
  },
  {
   "metadata": {
    "ExecuteTime": {
     "end_time": "2024-12-17T04:29:51.609729Z",
     "start_time": "2024-12-17T04:29:51.554057Z"
    }
   },
   "cell_type": "code",
   "source": [
    "\n",
    "rolling_window = 250\n",
    "\n",
    "temp_train = train_return.iloc[:rolling_window].copy()\n",
    "temp_y = temp_train.values\n",
    "\n",
    "temp_kernel = OUProcessKernel(alpha=0.2, sigma=0.4)\n",
    "y_pred, sigma = fit_predict_unit_distance_data(temp_y, temp_kernel)\n",
    "print(y_pred, sigma)"
   ],
   "id": "bb76be9fb2a4d5ed",
   "outputs": [
    {
     "name": "stdout",
     "output_type": "stream",
     "text": [
      "-0.01593652100264411 0.9325314944337306\n"
     ]
    }
   ],
   "execution_count": 7
  },
  {
   "metadata": {
    "ExecuteTime": {
     "end_time": "2024-12-17T04:29:53.324556Z",
     "start_time": "2024-12-17T04:29:53.317653Z"
    }
   },
   "cell_type": "code",
   "source": [
    "\n",
    "params = {\n",
    "    'alpha': np.linspace(0.1, 1.0, 10),\n",
    "    'sigma': np.linspace(0.1, 1.0, 10)\n",
    "}\n",
    "\n",
    "grid = expand_grid(params)\n",
    "grid"
   ],
   "id": "26cda1032515155a",
   "outputs": [
    {
     "data": {
      "text/plain": [
       "    alpha  sigma\n",
       "0     0.1    0.1\n",
       "1     0.1    0.2\n",
       "2     0.1    0.3\n",
       "3     0.1    0.4\n",
       "4     0.1    0.5\n",
       "..    ...    ...\n",
       "95    1.0    0.6\n",
       "96    1.0    0.7\n",
       "97    1.0    0.8\n",
       "98    1.0    0.9\n",
       "99    1.0    1.0\n",
       "\n",
       "[100 rows x 2 columns]"
      ],
      "text/html": [
       "<div>\n",
       "<style scoped>\n",
       "    .dataframe tbody tr th:only-of-type {\n",
       "        vertical-align: middle;\n",
       "    }\n",
       "\n",
       "    .dataframe tbody tr th {\n",
       "        vertical-align: top;\n",
       "    }\n",
       "\n",
       "    .dataframe thead th {\n",
       "        text-align: right;\n",
       "    }\n",
       "</style>\n",
       "<table border=\"1\" class=\"dataframe\">\n",
       "  <thead>\n",
       "    <tr style=\"text-align: right;\">\n",
       "      <th></th>\n",
       "      <th>alpha</th>\n",
       "      <th>sigma</th>\n",
       "    </tr>\n",
       "  </thead>\n",
       "  <tbody>\n",
       "    <tr>\n",
       "      <th>0</th>\n",
       "      <td>0.1</td>\n",
       "      <td>0.1</td>\n",
       "    </tr>\n",
       "    <tr>\n",
       "      <th>1</th>\n",
       "      <td>0.1</td>\n",
       "      <td>0.2</td>\n",
       "    </tr>\n",
       "    <tr>\n",
       "      <th>2</th>\n",
       "      <td>0.1</td>\n",
       "      <td>0.3</td>\n",
       "    </tr>\n",
       "    <tr>\n",
       "      <th>3</th>\n",
       "      <td>0.1</td>\n",
       "      <td>0.4</td>\n",
       "    </tr>\n",
       "    <tr>\n",
       "      <th>4</th>\n",
       "      <td>0.1</td>\n",
       "      <td>0.5</td>\n",
       "    </tr>\n",
       "    <tr>\n",
       "      <th>...</th>\n",
       "      <td>...</td>\n",
       "      <td>...</td>\n",
       "    </tr>\n",
       "    <tr>\n",
       "      <th>95</th>\n",
       "      <td>1.0</td>\n",
       "      <td>0.6</td>\n",
       "    </tr>\n",
       "    <tr>\n",
       "      <th>96</th>\n",
       "      <td>1.0</td>\n",
       "      <td>0.7</td>\n",
       "    </tr>\n",
       "    <tr>\n",
       "      <th>97</th>\n",
       "      <td>1.0</td>\n",
       "      <td>0.8</td>\n",
       "    </tr>\n",
       "    <tr>\n",
       "      <th>98</th>\n",
       "      <td>1.0</td>\n",
       "      <td>0.9</td>\n",
       "    </tr>\n",
       "    <tr>\n",
       "      <th>99</th>\n",
       "      <td>1.0</td>\n",
       "      <td>1.0</td>\n",
       "    </tr>\n",
       "  </tbody>\n",
       "</table>\n",
       "<p>100 rows × 2 columns</p>\n",
       "</div>"
      ]
     },
     "execution_count": 8,
     "metadata": {},
     "output_type": "execute_result"
    }
   ],
   "execution_count": 8
  },
  {
   "metadata": {
    "ExecuteTime": {
     "end_time": "2024-12-17T04:29:55.686391Z",
     "start_time": "2024-12-17T04:29:55.101480Z"
    }
   },
   "cell_type": "code",
   "source": [
    "# For each parameter combination, calculate the log marginal likelihood\n",
    "log_marginal_likelihoods = []\n",
    "for i in range(len(grid)):\n",
    "    temp_kernel = OUProcessKernel(alpha=grid['alpha'][i], sigma=grid['sigma'][i])\n",
    "    # print('Fitting model with alpha =', grid['alpha'][i], 'sigma =', grid['sigma'][i])\n",
    "    log_marginal_likelihoods.append(fit_log_marginal_likelihood(temp_y, temp_kernel))\n",
    "    # print('Log marginal likelihood:', log_marginal_likelihoods[-1])\n",
    "\n",
    "grid['log_marginal_likelihood'] = log_marginal_likelihoods"
   ],
   "id": "288f06a81fe959f8",
   "outputs": [],
   "execution_count": 9
  },
  {
   "metadata": {
    "ExecuteTime": {
     "end_time": "2024-12-17T04:29:56.647424Z",
     "start_time": "2024-12-17T04:29:56.643735Z"
    }
   },
   "cell_type": "code",
   "source": [
    "grid_max = grid.loc[grid['log_marginal_likelihood'].idxmax()]\n",
    "print('Best parameters:', grid_max)"
   ],
   "id": "8de0b37e7302aff0",
   "outputs": [
    {
     "name": "stdout",
     "output_type": "stream",
     "text": [
      "Best parameters: alpha                      1.000000e+00\n",
      "sigma                      9.000000e-01\n",
      "log_marginal_likelihood   -2.586606e+07\n",
      "Name: 98, dtype: float64\n"
     ]
    }
   ],
   "execution_count": 10
  },
  {
   "metadata": {
    "ExecuteTime": {
     "end_time": "2024-12-17T04:30:00.822652Z",
     "start_time": "2024-12-17T04:29:59.883940Z"
    }
   },
   "cell_type": "code",
   "source": "optimal_kernel_params(params, OUProcessKernel, temp_y)",
   "id": "18779b3932f0eb50",
   "outputs": [
    {
     "data": {
      "text/plain": [
       "alpha                      1.000000e+00\n",
       "sigma                      9.000000e-01\n",
       "log_marginal_likelihood   -2.586606e+07\n",
       "Name: 98, dtype: float64"
      ]
     },
     "execution_count": 11,
     "metadata": {},
     "output_type": "execute_result"
    }
   ],
   "execution_count": 11
  },
  {
   "metadata": {
    "ExecuteTime": {
     "end_time": "2024-12-17T04:30:01.993380Z",
     "start_time": "2024-12-17T04:30:01.927958Z"
    }
   },
   "cell_type": "code",
   "source": [
    "params = {\n",
    "    'H': np.linspace(0.1, 1.0, 10)\n",
    "}\n",
    "optimal_kernel_param = optimal_kernel_params(params, FractionalBrownianMotionKernel, temp_y)\n",
    "optimal_kernel_param_dict = optimal_kernel_param.to_dict()\n",
    "optimal_kernel_param_dict.pop('log_marginal_likelihood')\n",
    "optimal_kernel = FractionalBrownianMotionKernel(**optimal_kernel_param_dict)\n",
    "fit_predict_unit_distance_data(temp_y, optimal_kernel)"
   ],
   "id": "2d95ebd73f6e424a",
   "outputs": [
    {
     "data": {
      "text/plain": [
       "(-0.01594917732036063, 0.10910894557625055)"
      ]
     },
     "execution_count": 12,
     "metadata": {},
     "output_type": "execute_result"
    }
   ],
   "execution_count": 12
  },
  {
   "metadata": {
    "ExecuteTime": {
     "end_time": "2024-12-17T04:30:10.264688Z",
     "start_time": "2024-12-17T04:30:10.260763Z"
    }
   },
   "cell_type": "code",
   "source": "temp_y",
   "id": "2e70eead867afb5f",
   "outputs": [
    {
     "data": {
      "text/plain": [
       "array([-7.19255760e-02, -6.98426451e-02,  3.57349164e-02, -2.46585445e-02,\n",
       "        8.35210165e-03,  8.36474178e-02, -2.88808143e-02, -2.74830917e-02,\n",
       "       -1.73699438e-02, -1.21283277e-02, -5.59145722e-02, -4.54420890e-03,\n",
       "        3.05672387e-02, -8.60333797e-03, -2.22697222e-02, -4.14853626e-02,\n",
       "       -8.52433205e-02, -2.54084874e-02,  2.98555426e-02,  1.85046656e-02,\n",
       "        4.98323556e-02,  3.42437764e-02, -9.48970552e-03,  2.03837651e-03,\n",
       "        4.48524547e-02,  3.13433397e-02,  2.67818101e-02, -1.52093819e-02,\n",
       "       -3.09469244e-02,  3.14201280e-03,  2.00230108e-02, -4.84361965e-03,\n",
       "       -1.72020479e-02,  9.48165673e-03, -8.58274545e-03, -6.45712682e-02,\n",
       "       -2.00858130e-04, -3.09031941e-02,  2.14040735e-02, -4.83500691e-03,\n",
       "        1.31137164e-02, -6.15936764e-02,  2.89459168e-02, -2.02255352e-02,\n",
       "       -3.71600372e-02,  4.39004799e-04,  5.09981010e-03,  8.96957121e-03,\n",
       "        2.72139353e-02,  2.88790004e-02, -1.96827846e-02,  8.97448409e-03,\n",
       "        5.14518612e-02,  1.00753270e-02,  2.10124187e-03,  1.51935697e-01,\n",
       "       -6.67204784e-03, -5.44689484e-02, -5.45098460e-02,  3.12362730e-02,\n",
       "       -1.22201865e-03, -3.15171390e-02,  1.42777804e-02, -5.96891298e-02,\n",
       "       -1.95394715e-02,  5.90575272e-03,  4.15192793e-02,  2.53772801e-02,\n",
       "       -4.12046938e-03, -1.85907397e-02,  3.52911021e-03,  1.83325055e-02,\n",
       "       -2.53951732e-03,  6.80708665e-03,  3.16891301e-03,  5.45823241e-03,\n",
       "       -1.65348665e-02, -1.44156308e-02,  1.96155884e-02, -5.49019043e-03,\n",
       "        8.27134372e-04, -3.51537733e-02, -2.67746935e-02, -1.66203527e-02,\n",
       "        1.19556590e-02,  5.80868845e-03, -1.46535313e-02,  1.22518002e-02,\n",
       "       -1.78794521e-02, -5.29412311e-02, -2.22771538e-02, -2.62058593e-02,\n",
       "        2.07035127e-02,  3.81100326e-02, -2.76188545e-02,  3.44187023e-02,\n",
       "        8.09315473e-03, -3.59802814e-02, -1.09321839e-02,  2.79491917e-02,\n",
       "       -3.67798765e-02,  4.35634136e-03, -1.44023908e-02, -6.18228110e-03,\n",
       "        3.04308585e-02, -1.85638049e-02,  2.49171847e-03, -1.07766864e-01,\n",
       "       -6.00785300e-02,  3.89068355e-02,  4.26816251e-02,  2.84707322e-02,\n",
       "       -3.73313800e-02,  2.49127066e-02, -5.37588499e-02, -3.32464325e-02,\n",
       "        8.04030076e-03, -1.56593075e-01, -2.11448622e-01,  1.78217087e-01,\n",
       "       -8.32520381e-03, -4.24658001e-02,  5.56007744e-02,  2.14985705e-02,\n",
       "       -1.65036471e-02,  7.37382607e-02,  2.86870368e-02, -2.25790272e-03,\n",
       "        6.42737321e-02,  2.36880099e-02,  7.78619942e-02, -3.65593171e-02,\n",
       "       -1.12192854e-01, -1.71854225e-03, -3.03537594e-02, -3.95760115e-02,\n",
       "        4.37221582e-02,  4.95964426e-02, -4.60103445e-02, -1.82607554e-03,\n",
       "       -4.29441292e-02,  2.37436805e-02,  2.46910961e-02, -1.90644084e-02,\n",
       "       -1.47798772e-02, -1.23118483e-03, -2.97493595e-03,  1.17663619e-02,\n",
       "        6.16105135e-02,  9.29970321e-02, -8.74239421e-02, -4.18181472e-03,\n",
       "        4.17673319e-02, -2.99002363e-02,  1.67438228e-02,  1.45495192e-02,\n",
       "        3.09702477e-03, -3.49930549e-02,  1.23528701e-02, -6.57191039e-04,\n",
       "       -5.29875966e-03, -4.39637151e-03,  7.36044616e-02,  1.71374929e-03,\n",
       "        2.33576861e-02,  5.94461911e-02,  2.18811700e-02, -3.05641617e-02,\n",
       "        1.13002154e-02, -1.25101093e-02,  1.29728497e-02, -6.90282927e-03,\n",
       "        5.55960201e-02,  7.43426498e-03,  1.58314638e-02, -6.83244734e-03,\n",
       "       -3.06331770e-02, -1.20979606e-02,  1.59923212e-02,  1.46650987e-02,\n",
       "       -1.75089641e-02, -1.02295908e-01,  1.80609273e-02,  3.14640000e-03,\n",
       "       -6.58645905e-03,  3.05162878e-02, -4.55292305e-03, -7.92719119e-02,\n",
       "        2.45121033e-03,  9.48423984e-03, -6.04747371e-03,  2.33535214e-02,\n",
       "       -3.98935377e-02,  1.98300198e-02, -1.33400206e-02,  1.24803630e-02,\n",
       "        2.31850013e-02,  5.20543593e-03, -2.45751443e-03,  2.72016837e-02,\n",
       "       -1.95933496e-02, -9.04925273e-03, -3.22220939e-02, -5.49341807e-03,\n",
       "       -3.12053251e-02,  2.03325983e-03, -1.68674149e-03, -4.89766984e-02,\n",
       "       -2.41688473e-02,  2.13269637e-02,  2.11765274e-02, -2.48979289e-02,\n",
       "        2.12668145e-03, -3.38471630e-03,  9.10153154e-03,  4.73809344e-02,\n",
       "       -4.64575585e-03,  9.76193458e-03, -2.19654749e-02, -2.10924376e-02,\n",
       "       -3.07434371e-02,  4.49163885e-02, -1.49638435e-02, -2.08085148e-04,\n",
       "        4.57778541e-02, -1.72182746e-02,  1.22846013e-02,  2.31047938e-02,\n",
       "       -5.57500199e-03, -1.21204391e-02, -2.68464239e-02,  3.28659426e-02,\n",
       "        2.75097835e-02, -8.32847051e-03, -6.35149806e-03,  7.74877431e-03,\n",
       "       -4.31951548e-03, -1.96381790e-02,  2.33526086e-03,  2.85315377e-03,\n",
       "       -6.11096516e-03,  2.74822711e-03, -1.55150545e-02, -5.06588537e-03,\n",
       "        8.92875997e-03,  5.66618268e-03,  2.12625484e-02, -6.14115008e-03,\n",
       "        8.71181622e-03, -1.59491779e-02])"
      ]
     },
     "execution_count": 13,
     "metadata": {},
     "output_type": "execute_result"
    }
   ],
   "execution_count": 13
  },
  {
   "metadata": {
    "ExecuteTime": {
     "end_time": "2024-12-17T04:30:51.679204Z",
     "start_time": "2024-12-17T04:30:51.126142Z"
    }
   },
   "cell_type": "code",
   "source": [
    "params = {\n",
    "    'length_scale': np.linspace(0.01, 1.0, 20)\n",
    "}\n",
    "\n",
    "optimal_kernel_param = optimal_kernel_params(params, RBF, temp_y)\n",
    "print(optimal_kernel_param)\n",
    "\n",
    "optimal_kernel_param_dict = optimal_kernel_param.to_dict()\n",
    "optimal_kernel_param_dict.pop('log_marginal_likelihood')\n",
    "optimal_kernel = RBF(**optimal_kernel_param_dict)\n",
    "fit_predict_unit_distance_data(temp_y, optimal_kernel)\n"
   ],
   "id": "756935382b7c2b6c",
   "outputs": [
    {
     "name": "stderr",
     "output_type": "stream",
     "text": [
      "/Users/jamesguan/anaconda3/lib/python3.11/site-packages/sklearn/gaussian_process/kernels.py:442: ConvergenceWarning: The optimal value found for dimension 0 of parameter length_scale is close to the specified lower bound 1e-05. Decreasing the bound and calling fit again may find a better value.\n",
      "  warnings.warn(\n",
      "/Users/jamesguan/anaconda3/lib/python3.11/site-packages/sklearn/gaussian_process/kernels.py:442: ConvergenceWarning: The optimal value found for dimension 0 of parameter length_scale is close to the specified lower bound 1e-05. Decreasing the bound and calling fit again may find a better value.\n",
      "  warnings.warn(\n",
      "/Users/jamesguan/anaconda3/lib/python3.11/site-packages/sklearn/gaussian_process/kernels.py:442: ConvergenceWarning: The optimal value found for dimension 0 of parameter length_scale is close to the specified lower bound 1e-05. Decreasing the bound and calling fit again may find a better value.\n",
      "  warnings.warn(\n",
      "/Users/jamesguan/anaconda3/lib/python3.11/site-packages/sklearn/gaussian_process/kernels.py:442: ConvergenceWarning: The optimal value found for dimension 0 of parameter length_scale is close to the specified lower bound 1e-05. Decreasing the bound and calling fit again may find a better value.\n",
      "  warnings.warn(\n",
      "/Users/jamesguan/anaconda3/lib/python3.11/site-packages/sklearn/gaussian_process/kernels.py:442: ConvergenceWarning: The optimal value found for dimension 0 of parameter length_scale is close to the specified lower bound 1e-05. Decreasing the bound and calling fit again may find a better value.\n",
      "  warnings.warn(\n",
      "/Users/jamesguan/anaconda3/lib/python3.11/site-packages/sklearn/gaussian_process/kernels.py:442: ConvergenceWarning: The optimal value found for dimension 0 of parameter length_scale is close to the specified lower bound 1e-05. Decreasing the bound and calling fit again may find a better value.\n",
      "  warnings.warn(\n",
      "/Users/jamesguan/anaconda3/lib/python3.11/site-packages/sklearn/gaussian_process/kernels.py:442: ConvergenceWarning: The optimal value found for dimension 0 of parameter length_scale is close to the specified lower bound 1e-05. Decreasing the bound and calling fit again may find a better value.\n",
      "  warnings.warn(\n",
      "/Users/jamesguan/anaconda3/lib/python3.11/site-packages/sklearn/gaussian_process/kernels.py:442: ConvergenceWarning: The optimal value found for dimension 0 of parameter length_scale is close to the specified lower bound 1e-05. Decreasing the bound and calling fit again may find a better value.\n",
      "  warnings.warn(\n",
      "/Users/jamesguan/anaconda3/lib/python3.11/site-packages/sklearn/gaussian_process/kernels.py:442: ConvergenceWarning: The optimal value found for dimension 0 of parameter length_scale is close to the specified lower bound 1e-05. Decreasing the bound and calling fit again may find a better value.\n",
      "  warnings.warn(\n",
      "/Users/jamesguan/anaconda3/lib/python3.11/site-packages/sklearn/gaussian_process/kernels.py:442: ConvergenceWarning: The optimal value found for dimension 0 of parameter length_scale is close to the specified lower bound 1e-05. Decreasing the bound and calling fit again may find a better value.\n",
      "  warnings.warn(\n",
      "/Users/jamesguan/anaconda3/lib/python3.11/site-packages/sklearn/gaussian_process/kernels.py:442: ConvergenceWarning: The optimal value found for dimension 0 of parameter length_scale is close to the specified lower bound 1e-05. Decreasing the bound and calling fit again may find a better value.\n",
      "  warnings.warn(\n",
      "/Users/jamesguan/anaconda3/lib/python3.11/site-packages/sklearn/gaussian_process/kernels.py:442: ConvergenceWarning: The optimal value found for dimension 0 of parameter length_scale is close to the specified lower bound 1e-05. Decreasing the bound and calling fit again may find a better value.\n",
      "  warnings.warn(\n",
      "/Users/jamesguan/anaconda3/lib/python3.11/site-packages/sklearn/gaussian_process/kernels.py:442: ConvergenceWarning: The optimal value found for dimension 0 of parameter length_scale is close to the specified lower bound 1e-05. Decreasing the bound and calling fit again may find a better value.\n",
      "  warnings.warn(\n",
      "/Users/jamesguan/anaconda3/lib/python3.11/site-packages/sklearn/gaussian_process/kernels.py:442: ConvergenceWarning: The optimal value found for dimension 0 of parameter length_scale is close to the specified lower bound 1e-05. Decreasing the bound and calling fit again may find a better value.\n",
      "  warnings.warn(\n",
      "/Users/jamesguan/anaconda3/lib/python3.11/site-packages/sklearn/gaussian_process/kernels.py:442: ConvergenceWarning: The optimal value found for dimension 0 of parameter length_scale is close to the specified lower bound 1e-05. Decreasing the bound and calling fit again may find a better value.\n",
      "  warnings.warn(\n",
      "/Users/jamesguan/anaconda3/lib/python3.11/site-packages/sklearn/gaussian_process/kernels.py:442: ConvergenceWarning: The optimal value found for dimension 0 of parameter length_scale is close to the specified lower bound 1e-05. Decreasing the bound and calling fit again may find a better value.\n",
      "  warnings.warn(\n",
      "/Users/jamesguan/anaconda3/lib/python3.11/site-packages/sklearn/gaussian_process/kernels.py:442: ConvergenceWarning: The optimal value found for dimension 0 of parameter length_scale is close to the specified lower bound 1e-05. Decreasing the bound and calling fit again may find a better value.\n",
      "  warnings.warn(\n",
      "/Users/jamesguan/anaconda3/lib/python3.11/site-packages/sklearn/gaussian_process/kernels.py:442: ConvergenceWarning: The optimal value found for dimension 0 of parameter length_scale is close to the specified lower bound 1e-05. Decreasing the bound and calling fit again may find a better value.\n",
      "  warnings.warn(\n",
      "/Users/jamesguan/anaconda3/lib/python3.11/site-packages/sklearn/gaussian_process/kernels.py:442: ConvergenceWarning: The optimal value found for dimension 0 of parameter length_scale is close to the specified lower bound 1e-05. Decreasing the bound and calling fit again may find a better value.\n",
      "  warnings.warn(\n",
      "/Users/jamesguan/anaconda3/lib/python3.11/site-packages/sklearn/gaussian_process/kernels.py:442: ConvergenceWarning: The optimal value found for dimension 0 of parameter length_scale is close to the specified lower bound 1e-05. Decreasing the bound and calling fit again may find a better value.\n",
      "  warnings.warn(\n"
     ]
    },
    {
     "name": "stdout",
     "output_type": "stream",
     "text": [
      "length_scale                 0.010000\n",
      "log_marginal_likelihood   -229.924323\n",
      "Name: 0, dtype: float64\n"
     ]
    },
    {
     "name": "stderr",
     "output_type": "stream",
     "text": [
      "/Users/jamesguan/anaconda3/lib/python3.11/site-packages/sklearn/gaussian_process/kernels.py:442: ConvergenceWarning: The optimal value found for dimension 0 of parameter length_scale is close to the specified lower bound 1e-05. Decreasing the bound and calling fit again may find a better value.\n",
      "  warnings.warn(\n"
     ]
    },
    {
     "data": {
      "text/plain": [
       "(0.0, 1.0)"
      ]
     },
     "execution_count": 15,
     "metadata": {},
     "output_type": "execute_result"
    }
   ],
   "execution_count": 15
  },
  {
   "metadata": {},
   "cell_type": "code",
   "outputs": [],
   "execution_count": null,
   "source": "",
   "id": "db00a18a1fa247d7"
  }
 ],
 "metadata": {
  "kernelspec": {
   "display_name": "Python 3",
   "language": "python",
   "name": "python3"
  },
  "language_info": {
   "codemirror_mode": {
    "name": "ipython",
    "version": 2
   },
   "file_extension": ".py",
   "mimetype": "text/x-python",
   "name": "python",
   "nbconvert_exporter": "python",
   "pygments_lexer": "ipython2",
   "version": "2.7.6"
  }
 },
 "nbformat": 4,
 "nbformat_minor": 5
}
