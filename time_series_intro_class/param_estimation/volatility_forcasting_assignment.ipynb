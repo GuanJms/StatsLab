{
 "cells": [
  {
   "cell_type": "markdown",
   "source": [
    "# Problem 1: Equity Volatility Estimation \n",
    "\n",
    "### GARCH(1, 1) model\n",
    "\n",
    "Following the slides, given that $r_t = \\mu + \\sigma_t \\epsilon_t$,\n",
    "\n",
    "$$\\sigma_t^2 = \\alpha_0 + \\alpha_1 a_{t-1}^2 + \\beta_1 \\sigma_{t-1}^2,$$\n",
    "    \n",
    "where $a_t = \\sigma_t \\epsilon_t$."
   ],
   "metadata": {
    "collapsed": false
   },
   "id": "8c6b6cfc7d4abe1f"
  },
  {
   "cell_type": "markdown",
   "source": "### (a) Estimate the parameters of a GARCH(1,1) model",
   "metadata": {
    "collapsed": false
   },
   "id": "42d60723c107443e"
  },
  {
   "cell_type": "markdown",
   "source": [
    "Given a parameter set $\\mathbf{\\theta} = \\{\\theta, \\sigma_0, \\mu, \\alpha_0, \\alpha_1, \\beta_1\\}$ and a sequence of stock return $\\{r_t\\}$, we can first calculate $\\{a_t\\}$.\n",
    "\n",
    "And based on $\\sigma_t^2 = \\alpha_0 + \\alpha_1 a_{t-1}^2 + \\beta_1 \\sigma_{t-1}^2$ with our parameter set, we can calculate $\\{ \\sigma_t \\}$.\n",
    "\n",
    "Then, from class we have, the log-likelihood of GARCH(1,1) as,\n",
    "$$\n",
    "\\ln \\mathcal{L}(\\sigma_0, \\alpha_0, \\alpha_1, \\beta_1, \\mu \\mid r_1, r_2, \\dots, r_T) = -\\frac{T}{2} \\ln(2 \\pi) - \\frac{1}{2} \\sum_{i=1}^T \\ln \\sigma_i^2 - \\frac{1}{2} \\sum_{i=1}^T \\left(\\frac{(r_i - \\mu)^2}{\\sigma_i^2}\\right)\n",
    "$$"
   ],
   "metadata": {
    "collapsed": false
   },
   "id": "4eb31828d47d80a5"
  },
  {
   "cell_type": "markdown",
   "source": [
    "Download SPY and calculate daily return and store them into a pickle file."
   ],
   "metadata": {
    "collapsed": false
   },
   "id": "e4b018ca96117129"
  },
  {
   "cell_type": "code",
   "source": [
    "import matplotlib.pyplot as plt\n",
    "import yfinance as yf\n",
    "import pandas as pd\n",
    "import numpy as np\n",
    "import pickle"
   ],
   "metadata": {
    "collapsed": false,
    "ExecuteTime": {
     "end_time": "2024-11-06T02:31:36.078630Z",
     "start_time": "2024-11-06T02:31:35.461796Z"
    }
   },
   "id": "c6c0479d9b11a5c0",
   "outputs": [],
   "execution_count": 1
  },
  {
   "cell_type": "code",
   "source": [
    "spy_data = yf.download(\"SPY\", start=\"2015-01-02\", end=\"2024-10-26\")\n",
    "spy_data['Daily Return'] = np.log(spy_data['Adj Close'] / spy_data['Adj Close'].shift(1))\n",
    "spy_data.dropna(inplace=True)\n",
    "\n",
    "with open(\"spy_daily_returns.pkl\", \"wb\") as f:\n",
    "    pickle.dump(spy_data['Daily Return'], f)\n",
    "\n",
    "print(\"Data saved to spy_daily_returns.pkl\")"
   ],
   "metadata": {
    "collapsed": false,
    "ExecuteTime": {
     "end_time": "2024-11-06T02:31:36.586900Z",
     "start_time": "2024-11-06T02:31:36.079478Z"
    }
   },
   "id": "b0235a323f1a44dd",
   "outputs": [
    {
     "name": "stderr",
     "output_type": "stream",
     "text": [
      "[*********************100%%**********************]  1 of 1 completed"
     ]
    },
    {
     "name": "stdout",
     "output_type": "stream",
     "text": [
      "Data saved to spy_daily_returns.pkl\n"
     ]
    },
    {
     "name": "stderr",
     "output_type": "stream",
     "text": [
      "\n"
     ]
    }
   ],
   "execution_count": 2
  },
  {
   "cell_type": "code",
   "source": [
    "# Load the pickle file\n",
    "with open(\"spy_daily_returns.pkl\", \"rb\") as f:\n",
    "    spy_daily_returns = pickle.load(f)\n",
    "\n",
    "# Convert to DataFrame if it's not already one\n",
    "if not isinstance(spy_daily_returns, pd.DataFrame):\n",
    "    spy_daily_returns = pd.DataFrame(spy_daily_returns)\n",
    "\n",
    "spy_daily_returns.head()"
   ],
   "metadata": {
    "collapsed": false,
    "ExecuteTime": {
     "end_time": "2024-11-06T02:31:36.593454Z",
     "start_time": "2024-11-06T02:31:36.587515Z"
    }
   },
   "id": "bdde89311e8d6c15",
   "outputs": [
    {
     "data": {
      "text/plain": [
       "            Daily Return\n",
       "Date                    \n",
       "2015-01-05     -0.018225\n",
       "2015-01-06     -0.009463\n",
       "2015-01-07      0.012384\n",
       "2015-01-08      0.017589\n",
       "2015-01-09     -0.008046"
      ],
      "text/html": [
       "<div>\n",
       "<style scoped>\n",
       "    .dataframe tbody tr th:only-of-type {\n",
       "        vertical-align: middle;\n",
       "    }\n",
       "\n",
       "    .dataframe tbody tr th {\n",
       "        vertical-align: top;\n",
       "    }\n",
       "\n",
       "    .dataframe thead th {\n",
       "        text-align: right;\n",
       "    }\n",
       "</style>\n",
       "<table border=\"1\" class=\"dataframe\">\n",
       "  <thead>\n",
       "    <tr style=\"text-align: right;\">\n",
       "      <th></th>\n",
       "      <th>Daily Return</th>\n",
       "    </tr>\n",
       "    <tr>\n",
       "      <th>Date</th>\n",
       "      <th></th>\n",
       "    </tr>\n",
       "  </thead>\n",
       "  <tbody>\n",
       "    <tr>\n",
       "      <th>2015-01-05</th>\n",
       "      <td>-0.018225</td>\n",
       "    </tr>\n",
       "    <tr>\n",
       "      <th>2015-01-06</th>\n",
       "      <td>-0.009463</td>\n",
       "    </tr>\n",
       "    <tr>\n",
       "      <th>2015-01-07</th>\n",
       "      <td>0.012384</td>\n",
       "    </tr>\n",
       "    <tr>\n",
       "      <th>2015-01-08</th>\n",
       "      <td>0.017589</td>\n",
       "    </tr>\n",
       "    <tr>\n",
       "      <th>2015-01-09</th>\n",
       "      <td>-0.008046</td>\n",
       "    </tr>\n",
       "  </tbody>\n",
       "</table>\n",
       "</div>"
      ]
     },
     "execution_count": 3,
     "metadata": {},
     "output_type": "execute_result"
    }
   ],
   "execution_count": 3
  },
  {
   "cell_type": "code",
   "source": [
    "r = spy_daily_returns.values\n",
    "time_index = spy_daily_returns.index"
   ],
   "metadata": {
    "collapsed": false,
    "ExecuteTime": {
     "end_time": "2024-11-06T02:31:36.596249Z",
     "start_time": "2024-11-06T02:31:36.594615Z"
    }
   },
   "id": "a9cf07d0f8b463c7",
   "outputs": [],
   "execution_count": 4
  },
  {
   "cell_type": "code",
   "source": [
    "def neg_likelihood_func(r, mu, var):\n",
    "    val = 0.5 * np.sum((r - mu) ** 2 / var) + 0.5 * np.log(var).sum() + 0.5 * len(r) * np.log(2 * np.pi)\n",
    "    return val"
   ],
   "metadata": {
    "collapsed": false,
    "ExecuteTime": {
     "end_time": "2024-11-06T02:31:36.598643Z",
     "start_time": "2024-11-06T02:31:36.596883Z"
    }
   },
   "id": "f127bcb78462c699",
   "outputs": [],
   "execution_count": 5
  },
  {
   "cell_type": "code",
   "source": [
    "from scipy.optimize import minimize\n",
    "\n",
    "\n",
    "def neg_likelihood_func_with_params(params):\n",
    "    alpha0, alpha1, beta1, mu, sigma0 = params\n",
    "    N = len(r)\n",
    "    vars = np.zeros((N, 1))\n",
    "    vars[0] = sigma0 ** 2\n",
    "    a = r - mu\n",
    "    squared_a = a ** 2\n",
    "    for i in range(1, N):\n",
    "        vars[i] = alpha0 + alpha1 * squared_a[i - 1] + beta1 * vars[i - 1]\n",
    "    neg_log_val = neg_likelihood_func(r, mu, vars)\n",
    "    return neg_log_val\n",
    "\n",
    "\n",
    "x0 = [0.1, 0.2, 0.4, np.mean(r), np.std(r)]\n",
    "\n",
    "# bounds = [\n",
    "#     (1e-6, None),  # alpha0 > 0\n",
    "#     (0, 1),  # 0 <= alpha1 <= 1\n",
    "#     (0, 1),  # 0 <= beta1 <= 1\n",
    "#     (-0.1, 0.1),\n",
    "#     (1e-6, 0.4)\n",
    "# ]\n",
    "\n",
    "options = {\n",
    "    'maxiter': 100000,\n",
    "    'ftol': 1e-15,\n",
    "    'disp': True\n",
    "}\n",
    "\n",
    "result1 = minimize(\n",
    "    neg_likelihood_func_with_params,\n",
    "    x0,\n",
    "    method='Nelder-Mead',\n",
    "    # bounds=bounds,\n",
    "    # options=options\n",
    ")\n",
    "\n",
    "print(\"Optimized Parameters:\", result1.x)\n",
    "print(\"Minimum Negative Log-Likelihood:\", result1.fun)"
   ],
   "metadata": {
    "collapsed": false,
    "ExecuteTime": {
     "end_time": "2024-11-06T02:31:39.280009Z",
     "start_time": "2024-11-06T02:31:36.599290Z"
    }
   },
   "id": "4afe1d1e42301e35",
   "outputs": [
    {
     "name": "stderr",
     "output_type": "stream",
     "text": [
      "/var/folders/fb/bhld2vy11kjg5bh1hpblh9fm0000gn/T/ipykernel_30319/2615311663.py:2: RuntimeWarning: invalid value encountered in log\n",
      "  val = 0.5 * np.sum((r - mu) ** 2 / var) + 0.5 * np.log(var).sum() + 0.5 * len(r) * np.log(2 * np.pi)\n"
     ]
    },
    {
     "name": "stdout",
     "output_type": "stream",
     "text": [
      "Optimized Parameters: [3.63036252e-06 1.83170962e-01 7.87888338e-01 7.76217661e-04\n",
      " 1.02168231e-02]\n",
      "Minimum Negative Log-Likelihood: -8219.0034073383\n"
     ]
    }
   ],
   "execution_count": 6
  },
  {
   "metadata": {
    "ExecuteTime": {
     "end_time": "2024-11-06T02:31:39.282562Z",
     "start_time": "2024-11-06T02:31:39.280616Z"
    }
   },
   "cell_type": "code",
   "source": [
    "alpha0, alpha1, beta1, mu, sigma0 = result1.x\n",
    "print(f\"alpha0: {round(alpha0, 6)}\")\n",
    "print(f\"alpha1: {round(alpha1, 6)}\")\n",
    "print(f\"beta1: {round(beta1, 6)}\")\n",
    "print(f\"mu: {round(mu, 6)}\")"
   ],
   "id": "cfaea99e3a925337",
   "outputs": [
    {
     "name": "stdout",
     "output_type": "stream",
     "text": [
      "alpha0: 4e-06\n",
      "alpha1: 0.183171\n",
      "beta1: 0.787888\n",
      "mu: 0.000776\n"
     ]
    }
   ],
   "execution_count": 7
  },
  {
   "metadata": {},
   "cell_type": "markdown",
   "source": "Therefore, the optimized parameters are printed above.",
   "id": "19ccbfec0848e372"
  },
  {
   "metadata": {},
   "cell_type": "markdown",
   "source": [
    "(b) Estimate a GARCH(1,1) model with conditional returns having a Generalized Error Distribution.\n",
    "\n",
    "\n",
    "Following the course note, we have Log-likelihood function for GED\n",
    "\n",
    "$$\n",
    "\\ln \\mathcal{L}(\\alpha_0, \\alpha_1, \\beta_1, \\mu, \\nu | r_1, r_2, \\dots, r_T) =\n",
    "T \\left(\\ln(\\nu) - \\ln(\\lambda) - \\left(1 + \\frac{1}{\\nu}\\right) \\ln(2) - \\ln\\left(\\Gamma\\left(\\frac{1}{\\nu}\\right)\\right)\\right) \n",
    "- \\frac{1}{2} \\sum_{i=1}^{T} \\ln \\sigma_i^2 - \\frac{1}{2} \\sum_{i=1}^{T} \\left(\\frac{(r_i - \\mu)^2}{\\lambda^2 \\sigma_i^2}\\right)^{\\nu / 2}.\n",
    "$$\n",
    "\n",
    "By adding the extra parameter, $\\nu$, we can estimate the GARCH(1,1) model with conditional returns having a Generalized Error Distribution.\n"
   ],
   "id": "4da6698ba1d66ccc"
  },
  {
   "metadata": {
    "ExecuteTime": {
     "end_time": "2024-11-06T02:32:52.205494Z",
     "start_time": "2024-11-06T02:31:39.283131Z"
    }
   },
   "cell_type": "code",
   "source": [
    "from scipy.special import gamma\n",
    "\n",
    "\n",
    "def calculate_lambda(nu):\n",
    "    return (2 ** -(2 / nu) * gamma(1 / nu) / gamma(3 / nu)) ** 0.5\n",
    "\n",
    "\n",
    "# Negative log-likelihood function for GED with lambda calculation\n",
    "def neg_likelihood_func_GED(r, mu, var, nu):\n",
    "    lambda_val = calculate_lambda(nu)\n",
    "    T = len(r)\n",
    "    val = (0.5 * np.sum(((r - mu) ** 2 / (lambda_val ** 2 * var)) ** (nu / 2))\n",
    "           + 0.5 * np.log(var).sum()) - T * (\n",
    "                      np.log(nu) - np.log(lambda_val) - (1 + 1 / nu) * np.log(2) - np.log(gamma(1 / nu)))\n",
    "    return val\n",
    "\n",
    "\n",
    "def neg_likelihood_func_with_params_GED(params):\n",
    "    alpha0, alpha1, beta1, mu, sigma0, nu = params\n",
    "    N = len(r)\n",
    "    vars = np.zeros(N)\n",
    "    vars[0] = sigma0 ** 2\n",
    "    a = r - mu\n",
    "    squared_a = a ** 2\n",
    "    for i in range(1, N):\n",
    "        vars[i] = alpha0 + alpha1 * squared_a[i - 1] + beta1 * vars[i - 1]\n",
    "    # Calculate the negative log-likelihood using the custom GED function\n",
    "    neg_log_val = neg_likelihood_func_GED(r, mu, vars, nu)\n",
    "    return neg_log_val\n",
    "\n",
    "\n",
    "x0 = [np.std(r), 0.2, 0.4, np.mean(r), np.std(r), 1]\n",
    "# \n",
    "# bounds = [\n",
    "#     (1e-6, None),  # alpha0 > 0\n",
    "#     (0, 1),  # 0 <= alpha1 <= 1\n",
    "#     (0, 1),  # 0 <= beta1 <= 1\n",
    "#     (-0.1, 0.1),\n",
    "#     (1e-6, 1),  # sigma0 > 0\n",
    "#     (0.5, 10)\n",
    "# ]\n",
    "\n",
    "# options = {\n",
    "#     'maxiter': 100000,\n",
    "#     'ftol': 1e-10,\n",
    "#     'disp': True\n",
    "# }\n",
    "\n",
    "result = minimize(\n",
    "    neg_likelihood_func_with_params_GED,\n",
    "    x0,\n",
    "    method='Nelder-Mead',\n",
    "    # options=options\n",
    ")\n",
    "\n",
    "print(\"Optimized Parameters:\", result.x)\n",
    "print(\"Minimum Negative Log-Likelihood:\", result.fun)"
   ],
   "id": "d390ff889de88273",
   "outputs": [
    {
     "name": "stderr",
     "output_type": "stream",
     "text": [
      "/var/folders/fb/bhld2vy11kjg5bh1hpblh9fm0000gn/T/ipykernel_30319/196883460.py:12: RuntimeWarning: invalid value encountered in power\n",
      "  val = (0.5 * np.sum(((r - mu) ** 2 / (lambda_val ** 2 * var)) ** (nu / 2))\n",
      "/var/folders/fb/bhld2vy11kjg5bh1hpblh9fm0000gn/T/ipykernel_30319/196883460.py:13: RuntimeWarning: invalid value encountered in log\n",
      "  + 0.5 * np.log(var).sum()) - T * (\n"
     ]
    },
    {
     "name": "stdout",
     "output_type": "stream",
     "text": [
      "Optimized Parameters: [ 1.15389837e-05 -1.22719026e-04  9.97369016e-01 -1.79459668e-02\n",
      "  6.63503154e-02  3.75006564e+01]\n",
      "Minimum Negative Log-Likelihood: -3579.0691825903937\n"
     ]
    }
   ],
   "execution_count": 8
  },
  {
   "metadata": {
    "ExecuteTime": {
     "end_time": "2024-11-06T02:32:52.209328Z",
     "start_time": "2024-11-06T02:32:52.206714Z"
    }
   },
   "cell_type": "code",
   "source": [
    "alpha0_GED, alpha1_GED, beta1_GED, mu_GED, sigma0_GED, nu = result.x\n",
    "print(\"Estimated Parameters for GARCH(1,1) with GED\")\n",
    "print(f\"alpha0: {round(alpha0_GED, 6)}\")\n",
    "print(f\"alpha1: {round(alpha1_GED, 6)}\")\n",
    "print(f\"beta1: {round(beta1_GED, 6)}\")\n",
    "print(f\"mu: {round(mu_GED, 6)}\")\n",
    "print(f\"nu: {round(nu, 6)}\")"
   ],
   "id": "2727ffd4783f3da2",
   "outputs": [
    {
     "name": "stdout",
     "output_type": "stream",
     "text": [
      "Estimated Parameters for GARCH(1,1) with GED\n",
      "alpha0: 1.2e-05\n",
      "alpha1: -0.000123\n",
      "beta1: 0.997369\n",
      "mu: -0.017946\n",
      "nu: 37.500656\n"
     ]
    }
   ],
   "execution_count": 9
  },
  {
   "metadata": {},
   "cell_type": "markdown",
   "source": [
    "### (c) Estimate a TGARCH(1,1) model with conditional returns having a normal distribution.\n",
    "\n",
    "$$\n",
    "\\sigma_t^2 = \\alpha_0 + \\alpha_1 a_{t-1}^2 + \\gamma_1 S_{t-1} a_{t-1}^2 + \\beta_1 \\sigma_{t-1}^2\n",
    "$$\n",
    "\n",
    "where\n",
    "\n",
    "$$\n",
    "S_{t-1} = \\begin{cases} \n",
    "      1, & \\text{if } a_{t-1} < 0; \\\\\n",
    "      0, & \\text{if } a_{t-1} \\geq 0. \n",
    "   \\end{cases}\n",
    "$$\n",
    "\n",
    "- Additional parameter, $ \\gamma_1$ to estimate\n",
    "\n"
   ],
   "id": "f201999d547bce90"
  },
  {
   "metadata": {},
   "cell_type": "markdown",
   "source": "",
   "id": "4a493c4ee55cb7b5"
  },
  {
   "metadata": {
    "ExecuteTime": {
     "end_time": "2024-11-06T02:32:57.517477Z",
     "start_time": "2024-11-06T02:32:52.211215Z"
    }
   },
   "cell_type": "code",
   "source": [
    "from scipy.optimize import minimize\n",
    "\n",
    "\n",
    "def neg_likelihood_func(r, mu, var):\n",
    "    val = (0.5 * np.sum((r - mu) ** 2 / var) + 0.5 * np.log(var).sum())\n",
    "    return val\n",
    "\n",
    "\n",
    "def neg_likelihood_func_with_params_TGARCH(params):\n",
    "    alpha0, alpha1, beta1, mu, sigma0, gamma1 = params\n",
    "    N = len(r)\n",
    "    vars = np.zeros((N, 1))\n",
    "    vars[0] = sigma0 ** 2\n",
    "    a = r - mu\n",
    "    squared_a = a ** 2\n",
    "    for i in range(1, N):\n",
    "        S_t = a[i - 1] < 0\n",
    "        vars[i] = alpha0 + alpha1 * squared_a[i - 1] + gamma1 * S_t * squared_a[i - 1] + beta1 * vars[i - 1]\n",
    "    neg_log_val = neg_likelihood_func(r, mu, vars)\n",
    "    return neg_log_val\n",
    "\n",
    "\n",
    "x0 = [np.std(r), 0.1, 0.2, np.mean(r), np.std(r), 0.2]\n",
    "\n",
    "# bounds = [\n",
    "#     (1e-6, None),  # alpha0 > 0\n",
    "#     (0, 1),  # 0 <= alpha1 <= 1\n",
    "#     (0, 1),  # 0 <= beta1 <= 1\n",
    "#     (-0.1, 0.1),  # no bounds for mu\n",
    "#     (1e-6, 1),  # sigma0 > 0\n",
    "#     (-0.5, 0.5)  # -0.5 <= gamma1 <= 0.5\n",
    "# ]\n",
    "\n",
    "\n",
    "result_tgarch = minimize(\n",
    "    neg_likelihood_func_with_params_TGARCH,\n",
    "    x0,\n",
    "    method='Nelder-Mead',\n",
    "    # bounds=bounds,\n",
    ")\n",
    "\n",
    "print(\"Optimized Parameters:\", result_tgarch.x)\n",
    "print(\"Minimum Negative Log-Likelihood:\", result_tgarch.fun)"
   ],
   "id": "8901fe437d96576b",
   "outputs": [
    {
     "name": "stderr",
     "output_type": "stream",
     "text": [
      "/var/folders/fb/bhld2vy11kjg5bh1hpblh9fm0000gn/T/ipykernel_30319/1858343185.py:5: RuntimeWarning: invalid value encountered in log\n",
      "  val = (0.5 * np.sum((r - mu) ** 2 / var) + 0.5 * np.log(var).sum())\n"
     ]
    },
    {
     "name": "stdout",
     "output_type": "stream",
     "text": [
      "Optimized Parameters: [ 5.02772560e-06  3.24360784e-02  8.03099357e-01 -7.53482475e-04\n",
      "  3.24523659e-02  2.62455808e-01]\n",
      "Minimum Negative Log-Likelihood: -10474.892512094586\n"
     ]
    }
   ],
   "execution_count": 10
  },
  {
   "metadata": {
    "ExecuteTime": {
     "end_time": "2024-11-06T02:32:57.520787Z",
     "start_time": "2024-11-06T02:32:57.518363Z"
    }
   },
   "cell_type": "code",
   "source": [
    "alpha0_TGARCH, alpha1_TGARCH, beta1_TGARCH, mu_TGARCH, sigma0_TGARCH, gamma1 = result_tgarch.x\n",
    "print(\"Estimated Parameters for TGARCH(1,1) with Normal Distribution\")\n",
    "print(f\"alpha0: {round(alpha0_TGARCH, 6)}\")\n",
    "print(f\"alpha1: {round(alpha1_TGARCH, 6)}\")\n",
    "print(f\"beta1: {round(beta1_TGARCH, 6)}\")\n",
    "print(f\"mu: {round(mu_TGARCH, 6)}\")\n",
    "print(f\"gamma1: {round(gamma1, 6)}\")"
   ],
   "id": "c7143d53890e7735",
   "outputs": [
    {
     "name": "stdout",
     "output_type": "stream",
     "text": [
      "Estimated Parameters for TGARCH(1,1) with Normal Distribution\n",
      "alpha0: 5e-06\n",
      "alpha1: 0.032436\n",
      "beta1: 0.803099\n",
      "mu: -0.000753\n",
      "gamma1: 0.262456\n"
     ]
    }
   ],
   "execution_count": 11
  },
  {
   "metadata": {},
   "cell_type": "markdown",
   "source": "",
   "id": "1fe0388a5189dec0"
  },
  {
   "metadata": {
    "ExecuteTime": {
     "end_time": "2024-11-06T02:32:57.526727Z",
     "start_time": "2024-11-06T02:32:57.521442Z"
    }
   },
   "cell_type": "code",
   "source": [
    "pd.DataFrame(\n",
    "    {\n",
    "        \"GARCH(1,1)\": [alpha0, alpha1, beta1, mu, None],\n",
    "        \"GARCH(1,1) with GED\": [alpha0_GED, alpha1_GED, beta1_GED, mu_GED, nu],\n",
    "        \"TGARCH(1,1)\": [alpha0_TGARCH, alpha1_TGARCH, beta1_TGARCH, mu_TGARCH, gamma1]\n",
    "    },\n",
    "    index=[\"alpha0\", \"alpha1\", \"beta1\", \"mu\", \"nu/gamma1\"]\n",
    ")"
   ],
   "id": "26843315e1114b21",
   "outputs": [
    {
     "data": {
      "text/plain": [
       "           GARCH(1,1)  GARCH(1,1) with GED  TGARCH(1,1)\n",
       "alpha0       0.000004             0.000012     0.000005\n",
       "alpha1       0.183171            -0.000123     0.032436\n",
       "beta1        0.787888             0.997369     0.803099\n",
       "mu           0.000776            -0.017946    -0.000753\n",
       "nu/gamma1         NaN            37.500656     0.262456"
      ],
      "text/html": [
       "<div>\n",
       "<style scoped>\n",
       "    .dataframe tbody tr th:only-of-type {\n",
       "        vertical-align: middle;\n",
       "    }\n",
       "\n",
       "    .dataframe tbody tr th {\n",
       "        vertical-align: top;\n",
       "    }\n",
       "\n",
       "    .dataframe thead th {\n",
       "        text-align: right;\n",
       "    }\n",
       "</style>\n",
       "<table border=\"1\" class=\"dataframe\">\n",
       "  <thead>\n",
       "    <tr style=\"text-align: right;\">\n",
       "      <th></th>\n",
       "      <th>GARCH(1,1)</th>\n",
       "      <th>GARCH(1,1) with GED</th>\n",
       "      <th>TGARCH(1,1)</th>\n",
       "    </tr>\n",
       "  </thead>\n",
       "  <tbody>\n",
       "    <tr>\n",
       "      <th>alpha0</th>\n",
       "      <td>0.000004</td>\n",
       "      <td>0.000012</td>\n",
       "      <td>0.000005</td>\n",
       "    </tr>\n",
       "    <tr>\n",
       "      <th>alpha1</th>\n",
       "      <td>0.183171</td>\n",
       "      <td>-0.000123</td>\n",
       "      <td>0.032436</td>\n",
       "    </tr>\n",
       "    <tr>\n",
       "      <th>beta1</th>\n",
       "      <td>0.787888</td>\n",
       "      <td>0.997369</td>\n",
       "      <td>0.803099</td>\n",
       "    </tr>\n",
       "    <tr>\n",
       "      <th>mu</th>\n",
       "      <td>0.000776</td>\n",
       "      <td>-0.017946</td>\n",
       "      <td>-0.000753</td>\n",
       "    </tr>\n",
       "    <tr>\n",
       "      <th>nu/gamma1</th>\n",
       "      <td>NaN</td>\n",
       "      <td>37.500656</td>\n",
       "      <td>0.262456</td>\n",
       "    </tr>\n",
       "  </tbody>\n",
       "</table>\n",
       "</div>"
      ]
     },
     "execution_count": 12,
     "metadata": {},
     "output_type": "execute_result"
    }
   ],
   "execution_count": 12
  },
  {
   "metadata": {},
   "cell_type": "markdown",
   "source": "### (d) Compare the maximum value of the likelihood function for the models in parts (a), (b), and (c) to rank the three models.",
   "id": "9145cb79b03916d2"
  },
  {
   "metadata": {
    "ExecuteTime": {
     "end_time": "2024-11-06T02:32:57.528748Z",
     "start_time": "2024-11-06T02:32:57.527308Z"
    }
   },
   "cell_type": "code",
   "source": [
    "def calculate_schwartz_criterion(log_likelihood, p):\n",
    "    return -2 * log_likelihood + p * np.log(len(r))"
   ],
   "id": "7ed48cc6b05e8d3",
   "outputs": [],
   "execution_count": 13
  },
  {
   "metadata": {
    "ExecuteTime": {
     "end_time": "2024-11-06T02:32:57.532522Z",
     "start_time": "2024-11-06T02:32:57.529286Z"
    }
   },
   "cell_type": "code",
   "source": [
    "pd.DataFrame(\n",
    "    {\n",
    "        \"Model\": [\"GARCH(1,1)\", \"GARCH(1,1) with GED\", \"TGARCH(1,1)\"],\n",
    "        \"Log-Likelihood\": [-result1.fun, -result.fun, -result_tgarch.fun],\n",
    "        \"Schwartz Criterion\": [\n",
    "            calculate_schwartz_criterion(-result1.fun, 4),\n",
    "            calculate_schwartz_criterion(-result.fun, 5),\n",
    "            calculate_schwartz_criterion(-result_tgarch.fun, 5)\n",
    "        ]\n",
    "    }\n",
    ")"
   ],
   "id": "d943f1eb15f2adce",
   "outputs": [
    {
     "data": {
      "text/plain": [
       "                 Model  Log-Likelihood  Schwartz Criterion\n",
       "0           GARCH(1,1)     8219.003407       -16406.758921\n",
       "1  GARCH(1,1) with GED     3579.069183        -7119.078498\n",
       "2          TGARCH(1,1)    10474.892512       -20910.725157"
      ],
      "text/html": [
       "<div>\n",
       "<style scoped>\n",
       "    .dataframe tbody tr th:only-of-type {\n",
       "        vertical-align: middle;\n",
       "    }\n",
       "\n",
       "    .dataframe tbody tr th {\n",
       "        vertical-align: top;\n",
       "    }\n",
       "\n",
       "    .dataframe thead th {\n",
       "        text-align: right;\n",
       "    }\n",
       "</style>\n",
       "<table border=\"1\" class=\"dataframe\">\n",
       "  <thead>\n",
       "    <tr style=\"text-align: right;\">\n",
       "      <th></th>\n",
       "      <th>Model</th>\n",
       "      <th>Log-Likelihood</th>\n",
       "      <th>Schwartz Criterion</th>\n",
       "    </tr>\n",
       "  </thead>\n",
       "  <tbody>\n",
       "    <tr>\n",
       "      <th>0</th>\n",
       "      <td>GARCH(1,1)</td>\n",
       "      <td>8219.003407</td>\n",
       "      <td>-16406.758921</td>\n",
       "    </tr>\n",
       "    <tr>\n",
       "      <th>1</th>\n",
       "      <td>GARCH(1,1) with GED</td>\n",
       "      <td>3579.069183</td>\n",
       "      <td>-7119.078498</td>\n",
       "    </tr>\n",
       "    <tr>\n",
       "      <th>2</th>\n",
       "      <td>TGARCH(1,1)</td>\n",
       "      <td>10474.892512</td>\n",
       "      <td>-20910.725157</td>\n",
       "    </tr>\n",
       "  </tbody>\n",
       "</table>\n",
       "</div>"
      ]
     },
     "execution_count": 14,
     "metadata": {},
     "output_type": "execute_result"
    }
   ],
   "execution_count": 14
  },
  {
   "metadata": {},
   "cell_type": "markdown",
   "source": [
    "Conclusion:\n",
    "\n",
    "Comparing GARCH(1,1) with GED with TGARCH(1,1) with Normal Distribution, given the same parameter number, TGARCH(1,1) has higher log-likelihood. Therefore, TGARCH(1,1) with Normal Distribution is better than GARCH(1,1) with GED.\n",
    "\n",
    "Comparing with Schwartz Criterion, TGARCH(1,1) has the lowest value, which means TGARCH(1,1) is the best model among the three models. Then, GARCH(1,1), and GARCH(1,1) with GED.\n",
    "\n",
    "Moreover, GARCH(1,1) with GED is producing unrealistic results and unstable to estimate. "
   ],
   "id": "ebe16e730d7ae909"
  },
  {
   "metadata": {},
   "cell_type": "markdown",
   "source": [
    "# Problem 2: TGARCH(1,1) Model for Option Pricing\n",
    "\n",
    "Given prices and implied volatilitites of puts and calls on SPY options on close of Friday, October 25, 2024. The closing pricing for SPY on October 25, 2024 was 579.04. Use the TGARCH(1,1) model to price two options: \n",
    "\n",
    "the 588 stirke call options (the delta is approximately 0.35), and the 570 put options (the delta is approximately -0.35). Price these two options using a Monte Carlo simulation with expeirational date on Friday, November 15, 2024, which is 15 trading days from Friday, October 25, 2024. Assume the risk-free rate, $r_f = 4.86\\%$ and there are no dividends before expiration."
   ],
   "id": "b7bce2ec9354b2dc"
  },
  {
   "metadata": {
    "ExecuteTime": {
     "end_time": "2024-11-06T02:35:25.947543Z",
     "start_time": "2024-11-06T02:35:25.942630Z"
    }
   },
   "cell_type": "code",
   "source": [
    "# Use two months of data for implied volatility calculation\n",
    "two_month_data = spy_daily_returns.iloc[-44:]\n",
    "two_month_data"
   ],
   "id": "b6e98e6d70a71435",
   "outputs": [
    {
     "data": {
      "text/plain": [
       "            Daily Return\n",
       "Date                    \n",
       "2024-08-26     -0.002387\n",
       "2024-08-27      0.001372\n",
       "2024-08-28     -0.005822\n",
       "2024-08-29      0.000089\n",
       "2024-08-30      0.009501\n",
       "2024-09-03     -0.020794\n",
       "2024-09-04     -0.002049\n",
       "2024-09-05     -0.002435\n",
       "2024-09-06     -0.016973\n",
       "2024-09-09      0.011134\n",
       "2024-09-10      0.004346\n",
       "2024-09-11      0.010207\n",
       "2024-09-12      0.008388\n",
       "2024-09-13      0.005209\n",
       "2024-09-16      0.001476\n",
       "2024-09-17      0.000409\n",
       "2024-09-18     -0.002970\n",
       "2024-09-19      0.016920\n",
       "2024-09-20     -0.001730\n",
       "2024-09-23      0.002496\n",
       "2024-09-24      0.002857\n",
       "2024-09-25     -0.002208\n",
       "2024-09-26      0.003957\n",
       "2024-09-27     -0.001451\n",
       "2024-09-30      0.003999\n",
       "2024-10-01     -0.008999\n",
       "2024-10-02      0.000422\n",
       "2024-10-03     -0.001830\n",
       "2024-10-04      0.009046\n",
       "2024-10-07     -0.009082\n",
       "2024-10-08      0.009413\n",
       "2024-10-09      0.006903\n",
       "2024-10-10     -0.001752\n",
       "2024-10-11      0.005970\n",
       "2024-10-14      0.008145\n",
       "2024-10-15     -0.007800\n",
       "2024-10-16      0.004337\n",
       "2024-10-17      0.000086\n",
       "2024-10-18      0.003839\n",
       "2024-10-21     -0.001644\n",
       "2024-10-22     -0.000531\n",
       "2024-10-23     -0.009179\n",
       "2024-10-24      0.002160\n",
       "2024-10-25     -0.000345"
      ],
      "text/html": [
       "<div>\n",
       "<style scoped>\n",
       "    .dataframe tbody tr th:only-of-type {\n",
       "        vertical-align: middle;\n",
       "    }\n",
       "\n",
       "    .dataframe tbody tr th {\n",
       "        vertical-align: top;\n",
       "    }\n",
       "\n",
       "    .dataframe thead th {\n",
       "        text-align: right;\n",
       "    }\n",
       "</style>\n",
       "<table border=\"1\" class=\"dataframe\">\n",
       "  <thead>\n",
       "    <tr style=\"text-align: right;\">\n",
       "      <th></th>\n",
       "      <th>Daily Return</th>\n",
       "    </tr>\n",
       "    <tr>\n",
       "      <th>Date</th>\n",
       "      <th></th>\n",
       "    </tr>\n",
       "  </thead>\n",
       "  <tbody>\n",
       "    <tr>\n",
       "      <th>2024-08-26</th>\n",
       "      <td>-0.002387</td>\n",
       "    </tr>\n",
       "    <tr>\n",
       "      <th>2024-08-27</th>\n",
       "      <td>0.001372</td>\n",
       "    </tr>\n",
       "    <tr>\n",
       "      <th>2024-08-28</th>\n",
       "      <td>-0.005822</td>\n",
       "    </tr>\n",
       "    <tr>\n",
       "      <th>2024-08-29</th>\n",
       "      <td>0.000089</td>\n",
       "    </tr>\n",
       "    <tr>\n",
       "      <th>2024-08-30</th>\n",
       "      <td>0.009501</td>\n",
       "    </tr>\n",
       "    <tr>\n",
       "      <th>2024-09-03</th>\n",
       "      <td>-0.020794</td>\n",
       "    </tr>\n",
       "    <tr>\n",
       "      <th>2024-09-04</th>\n",
       "      <td>-0.002049</td>\n",
       "    </tr>\n",
       "    <tr>\n",
       "      <th>2024-09-05</th>\n",
       "      <td>-0.002435</td>\n",
       "    </tr>\n",
       "    <tr>\n",
       "      <th>2024-09-06</th>\n",
       "      <td>-0.016973</td>\n",
       "    </tr>\n",
       "    <tr>\n",
       "      <th>2024-09-09</th>\n",
       "      <td>0.011134</td>\n",
       "    </tr>\n",
       "    <tr>\n",
       "      <th>2024-09-10</th>\n",
       "      <td>0.004346</td>\n",
       "    </tr>\n",
       "    <tr>\n",
       "      <th>2024-09-11</th>\n",
       "      <td>0.010207</td>\n",
       "    </tr>\n",
       "    <tr>\n",
       "      <th>2024-09-12</th>\n",
       "      <td>0.008388</td>\n",
       "    </tr>\n",
       "    <tr>\n",
       "      <th>2024-09-13</th>\n",
       "      <td>0.005209</td>\n",
       "    </tr>\n",
       "    <tr>\n",
       "      <th>2024-09-16</th>\n",
       "      <td>0.001476</td>\n",
       "    </tr>\n",
       "    <tr>\n",
       "      <th>2024-09-17</th>\n",
       "      <td>0.000409</td>\n",
       "    </tr>\n",
       "    <tr>\n",
       "      <th>2024-09-18</th>\n",
       "      <td>-0.002970</td>\n",
       "    </tr>\n",
       "    <tr>\n",
       "      <th>2024-09-19</th>\n",
       "      <td>0.016920</td>\n",
       "    </tr>\n",
       "    <tr>\n",
       "      <th>2024-09-20</th>\n",
       "      <td>-0.001730</td>\n",
       "    </tr>\n",
       "    <tr>\n",
       "      <th>2024-09-23</th>\n",
       "      <td>0.002496</td>\n",
       "    </tr>\n",
       "    <tr>\n",
       "      <th>2024-09-24</th>\n",
       "      <td>0.002857</td>\n",
       "    </tr>\n",
       "    <tr>\n",
       "      <th>2024-09-25</th>\n",
       "      <td>-0.002208</td>\n",
       "    </tr>\n",
       "    <tr>\n",
       "      <th>2024-09-26</th>\n",
       "      <td>0.003957</td>\n",
       "    </tr>\n",
       "    <tr>\n",
       "      <th>2024-09-27</th>\n",
       "      <td>-0.001451</td>\n",
       "    </tr>\n",
       "    <tr>\n",
       "      <th>2024-09-30</th>\n",
       "      <td>0.003999</td>\n",
       "    </tr>\n",
       "    <tr>\n",
       "      <th>2024-10-01</th>\n",
       "      <td>-0.008999</td>\n",
       "    </tr>\n",
       "    <tr>\n",
       "      <th>2024-10-02</th>\n",
       "      <td>0.000422</td>\n",
       "    </tr>\n",
       "    <tr>\n",
       "      <th>2024-10-03</th>\n",
       "      <td>-0.001830</td>\n",
       "    </tr>\n",
       "    <tr>\n",
       "      <th>2024-10-04</th>\n",
       "      <td>0.009046</td>\n",
       "    </tr>\n",
       "    <tr>\n",
       "      <th>2024-10-07</th>\n",
       "      <td>-0.009082</td>\n",
       "    </tr>\n",
       "    <tr>\n",
       "      <th>2024-10-08</th>\n",
       "      <td>0.009413</td>\n",
       "    </tr>\n",
       "    <tr>\n",
       "      <th>2024-10-09</th>\n",
       "      <td>0.006903</td>\n",
       "    </tr>\n",
       "    <tr>\n",
       "      <th>2024-10-10</th>\n",
       "      <td>-0.001752</td>\n",
       "    </tr>\n",
       "    <tr>\n",
       "      <th>2024-10-11</th>\n",
       "      <td>0.005970</td>\n",
       "    </tr>\n",
       "    <tr>\n",
       "      <th>2024-10-14</th>\n",
       "      <td>0.008145</td>\n",
       "    </tr>\n",
       "    <tr>\n",
       "      <th>2024-10-15</th>\n",
       "      <td>-0.007800</td>\n",
       "    </tr>\n",
       "    <tr>\n",
       "      <th>2024-10-16</th>\n",
       "      <td>0.004337</td>\n",
       "    </tr>\n",
       "    <tr>\n",
       "      <th>2024-10-17</th>\n",
       "      <td>0.000086</td>\n",
       "    </tr>\n",
       "    <tr>\n",
       "      <th>2024-10-18</th>\n",
       "      <td>0.003839</td>\n",
       "    </tr>\n",
       "    <tr>\n",
       "      <th>2024-10-21</th>\n",
       "      <td>-0.001644</td>\n",
       "    </tr>\n",
       "    <tr>\n",
       "      <th>2024-10-22</th>\n",
       "      <td>-0.000531</td>\n",
       "    </tr>\n",
       "    <tr>\n",
       "      <th>2024-10-23</th>\n",
       "      <td>-0.009179</td>\n",
       "    </tr>\n",
       "    <tr>\n",
       "      <th>2024-10-24</th>\n",
       "      <td>0.002160</td>\n",
       "    </tr>\n",
       "    <tr>\n",
       "      <th>2024-10-25</th>\n",
       "      <td>-0.000345</td>\n",
       "    </tr>\n",
       "  </tbody>\n",
       "</table>\n",
       "</div>"
      ]
     },
     "execution_count": 24,
     "metadata": {},
     "output_type": "execute_result"
    }
   ],
   "execution_count": 24
  },
  {
   "metadata": {},
   "cell_type": "markdown",
   "source": "Let us reestimate the parameters for TGARCH(1,1) model using the last two months of data for a more reasonable volatility prediction.",
   "id": "9e4da13b19eabd2b"
  },
  {
   "metadata": {
    "ExecuteTime": {
     "end_time": "2024-11-06T02:46:17.750787Z",
     "start_time": "2024-11-06T02:46:17.684882Z"
    }
   },
   "cell_type": "code",
   "source": [
    "r = two_month_data.values\n",
    "\n",
    "def neg_likelihood_func(r, mu, var):\n",
    "    val = (0.5 * np.sum((r - mu) ** 2 / var) + 0.5 * np.log(var).sum())\n",
    "    return val\n",
    "\n",
    "\n",
    "def neg_likelihood_func_with_params_TGARCH(params):\n",
    "    alpha0, alpha1, beta1, mu, sigma0, gamma1 = params\n",
    "    N = len(r)\n",
    "    vars = np.zeros((N, 1))\n",
    "    vars[0] = sigma0 ** 2\n",
    "    a = r - mu\n",
    "    squared_a = a ** 2\n",
    "    for i in range(1, N):\n",
    "        S_t = a[i - 1] < 0\n",
    "        vars[i] = alpha0 + alpha1 * squared_a[i - 1] + gamma1 * S_t * squared_a[i - 1] + beta1 * vars[i - 1]\n",
    "    neg_log_val = neg_likelihood_func(r, mu, vars)\n",
    "    return neg_log_val\n",
    "\n",
    "# Estimate the volatility for the last month and reestimate the parameters for TGARCH\n",
    "sigma = r.std()\n",
    "\n",
    "# alpha0, alpha1, beta1, mu, sigma0, gamma1 \n",
    "x0 = [np.std(r), 0.1, 0.2, np.mean(r), np.std(r), 0.]\n",
    "\n",
    "result_tgarch = minimize(\n",
    "    neg_likelihood_func_with_params_TGARCH,\n",
    "    x0,\n",
    "    method='Nelder-Mead'\n",
    ")\n",
    "\n",
    "print(\"Optimized Parameters:\", result_tgarch.x)\n",
    "print(\"Minimum Negative Log-Likelihood:\", result_tgarch.fun)"
   ],
   "id": "ed245ade04c17044",
   "outputs": [
    {
     "name": "stdout",
     "output_type": "stream",
     "text": [
      "Optimized Parameters: [3.13124333e-05 1.40962479e-01 2.92121870e-01 1.11028548e-03\n",
      " 3.59367838e-03 6.56505306e-05]\n",
      "Minimum Negative Log-Likelihood: -195.81109651466315\n"
     ]
    },
    {
     "name": "stderr",
     "output_type": "stream",
     "text": [
      "/var/folders/fb/bhld2vy11kjg5bh1hpblh9fm0000gn/T/ipykernel_30319/2889486759.py:4: RuntimeWarning: invalid value encountered in log\n",
      "  val = (0.5 * np.sum((r - mu) ** 2 / var) + 0.5 * np.log(var).sum())\n"
     ]
    }
   ],
   "execution_count": 57
  },
  {
   "metadata": {
    "ExecuteTime": {
     "end_time": "2024-11-06T02:46:18.431516Z",
     "start_time": "2024-11-06T02:46:18.428389Z"
    }
   },
   "cell_type": "code",
   "source": [
    "import math\n",
    "from scipy.stats import norm\n",
    "\n",
    "\n",
    "def bsm_option_price(S, K, T, r, sigma, option_type='call'):\n",
    "    d1 = (math.log(S / K) + (r + 0.5 * sigma ** 2) * T) / (sigma * math.sqrt(T))\n",
    "    d2 = d1 - sigma * math.sqrt(T)\n",
    "\n",
    "    if option_type == 'call':\n",
    "        # Call option price\n",
    "        option_price = S * norm.cdf(d1) - K * math.exp(-r * T) * norm.cdf(d2)\n",
    "    elif option_type == 'put':\n",
    "        # Put option price\n",
    "        option_price = K * math.exp(-r * T) * norm.cdf(-d2) - S * norm.cdf(-d1)\n",
    "    else:\n",
    "        raise ValueError(\"Invalid option type. Use 'call' or 'put'.\")\n",
    "    return option_price"
   ],
   "id": "934fced2ff60b519",
   "outputs": [],
   "execution_count": 58
  },
  {
   "metadata": {},
   "cell_type": "markdown",
   "source": [
    "$$r_t = \\mu + \\sigma_t \\epsilon_t$$\n",
    "\n",
    "$$a_t = \\sigma_t \\epsilon_t$$\n",
    "\n",
    "$$\n",
    "\\sigma_t^2 = \\alpha_0 + \\alpha_1 a_{t-1}^2 + \\gamma_1 S_{t-1} a_{t-1}^2 + \\beta_1 \\sigma_{t-1}^2\n",
    "$$\n",
    "\n",
    "where\n",
    "\n",
    "$$\n",
    "S_{t-1} = \\begin{cases} \n",
    "      1, & \\text{if } a_{t-1} < 0; \\\\\n",
    "      0, & \\text{if } a_{t-1} \\geq 0. \n",
    "   \\end{cases}\n",
    "$$\n",
    "\n",
    "Given the estimated parameter, we are first going to use the last estimated volatility to forcast the volatility each step given a simulated return, then we are finding the last final price. And calculate the simulated final payoff. Then we average out the simnulated final payoff and discounted back for the option prices. "
   ],
   "id": "454d2256196a71c3"
  },
  {
   "metadata": {
    "ExecuteTime": {
     "end_time": "2024-11-06T02:46:19.411571Z",
     "start_time": "2024-11-06T02:46:19.409186Z"
    }
   },
   "cell_type": "code",
   "source": [
    "alpha0_TGARCH, alpha1_TGARCH, beta1_TGARCH, mu_TGARCH, sigma0_TGARCH, gamma1 = result_tgarch.x\n",
    "alpha0_TGARCH, alpha1_TGARCH, beta1_TGARCH, mu_TGARCH, sigma0_TGARCH, gamma1"
   ],
   "id": "5b43394550579e80",
   "outputs": [
    {
     "data": {
      "text/plain": [
       "(3.131243331749098e-05,\n",
       " 0.14096247941116868,\n",
       " 0.2921218695188498,\n",
       " 0.0011102854795353016,\n",
       " 0.0035936783839148633,\n",
       " 6.565053063849703e-05)"
      ]
     },
     "execution_count": 59,
     "metadata": {},
     "output_type": "execute_result"
    }
   ],
   "execution_count": 59
  },
  {
   "metadata": {
    "ExecuteTime": {
     "end_time": "2024-11-06T02:46:19.961218Z",
     "start_time": "2024-11-06T02:46:19.957645Z"
    }
   },
   "cell_type": "code",
   "source": [
    "N = len(r)\n",
    "vars_TGARCH = np.zeros((N, 1))\n",
    "vars_TGARCH[0] = sigma0_TGARCH ** 2\n",
    "a = r - mu_TGARCH\n",
    "squared_a = a ** 2\n",
    "for i in range(1, N):\n",
    "    S_t = a[i - 1] < 0\n",
    "    vars_TGARCH[i] = alpha0_TGARCH + alpha1_TGARCH * squared_a[i - 1] + gamma1 * S_t * squared_a[i - 1] + beta1_TGARCH * \\\n",
    "                     vars_TGARCH[i - 1]\n",
    "\n",
    "sigma_TGARCH = np.sqrt(vars_TGARCH[-1])\n",
    "sigma_TGARCH"
   ],
   "id": "231d6237a51e7f3e",
   "outputs": [
    {
     "data": {
      "text/plain": [
       "array([0.00698727])"
      ]
     },
     "execution_count": 60,
     "metadata": {},
     "output_type": "execute_result"
    }
   ],
   "execution_count": 60
  },
  {
   "metadata": {
    "ExecuteTime": {
     "end_time": "2024-11-06T02:46:21.411350Z",
     "start_time": "2024-11-06T02:46:20.400875Z"
    }
   },
   "cell_type": "code",
   "source": [
    "import numpy as np\n",
    "\n",
    "S0 = 579.04      \n",
    "K_call = 588    \n",
    "K_put = 570      \n",
    "T = 15 / 252     \n",
    "rf = 0.0486\n",
    "simulations = 10000\n",
    "N = len(r)\n",
    "\n",
    "# Monte Carlo Simulation\n",
    "final_prices = np.zeros(simulations)\n",
    "\n",
    "for sim in range(simulations):\n",
    "    # Initialize variables for each simulation\n",
    "    S_t = S0\n",
    "    # sigma_t_squared = (im_vol/np.sqrt(252)) ** 2  # Starting variance for TGARCH\n",
    "    sigma_t_squared = sigma_TGARCH ** 2  # Starting variance for TGARCH\n",
    "    \n",
    "    # Sequential simulation over 15 days\n",
    "    for t in range(15):\n",
    "        # Generate a random standard normal shock\n",
    "        Z_t = np.random.normal()\n",
    "        \n",
    "        # Calculate the daily return based on current volatility\n",
    "        daily_return = mu_TGARCH + np.sqrt(sigma_t_squared) * Z_t\n",
    "        S_t = S_t * np.exp(daily_return)\n",
    "        \n",
    "        # Update TGARCH model with simulated return\n",
    "        a_t = daily_return - mu_TGARCH\n",
    "        squared_a_t = a_t ** 2\n",
    "        S_indicator = int(a_t < 0)  # 1 if negative, 0 otherwise\n",
    "\n",
    "        # Update next day's volatility using TGARCH formula\n",
    "        sigma_t_squared = abs(\n",
    "            alpha0_TGARCH +\n",
    "            alpha1_TGARCH * squared_a_t +\n",
    "            gamma1 * S_indicator * squared_a_t +\n",
    "            beta1_TGARCH * sigma_t_squared\n",
    "        )\n",
    "    \n",
    "    # Store the final simulated stock price after 15 days\n",
    "    final_prices[sim] = S_t\n",
    "\n",
    "# Calculate option payoffs\n",
    "call_payoffs = np.maximum(final_prices - K_call, 0)\n",
    "put_payoffs = np.maximum(K_put - final_prices, 0)\n",
    "\n",
    "# Discount payoffs to present value\n",
    "call_price = np.exp(-rf * T) * np.mean(call_payoffs)\n",
    "put_price = np.exp(-rf * T) * np.mean(put_payoffs)"
   ],
   "id": "8d866edac1e215bc",
   "outputs": [],
   "execution_count": 61
  },
  {
   "metadata": {},
   "cell_type": "markdown",
   "source": "(a) What are the prices, and the corresponding Black-Scholes implied volatilities, for the two options?",
   "id": "a6487d2c30b5cbc0"
  },
  {
   "metadata": {
    "ExecuteTime": {
     "end_time": "2024-11-06T02:46:21.896240Z",
     "start_time": "2024-11-06T02:46:21.894225Z"
    }
   },
   "cell_type": "code",
   "source": [
    "print(\"Option Prices\")\n",
    "print(f\"Call Option Price: {round(call_price,2)}\")\n",
    "print(f\"Put Option Price: {round(put_price,2)}\")"
   ],
   "id": "6cb6903718509990",
   "outputs": [
    {
     "name": "stdout",
     "output_type": "stream",
     "text": [
      "Option Prices\n",
      "Call Option Price: 7.0\n",
      "Put Option Price: 1.06\n"
     ]
    }
   ],
   "execution_count": 62
  },
  {
   "metadata": {
    "ExecuteTime": {
     "end_time": "2024-11-06T02:46:24.486403Z",
     "start_time": "2024-11-06T02:46:24.480490Z"
    }
   },
   "cell_type": "code",
   "source": [
    "# Calculate Black-Scholes implied volatilities\n",
    "\n",
    "from scipy.optimize import brentq\n",
    "\n",
    "def call_option_implied_volatility(S, K, T, r, C, sigma_est=0.2):\n",
    "    def call_option_price(sigma):\n",
    "        return bsm_option_price(S, K, T, r, sigma, option_type='call') - C\n",
    "\n",
    "    return brentq(call_option_price, 1e-6, 1)\n",
    "\n",
    "def put_option_implied_volatility(S, K, T, r, P, sigma_est=0.2):\n",
    "    def put_option_price(sigma):\n",
    "        return bsm_option_price(S, K, T, r, sigma, option_type='put') - P\n",
    "\n",
    "    return brentq(put_option_price, 1e-6, 1)\n",
    "\n",
    "# Calculate implied volatilities\n",
    "call_implied_vol = call_option_implied_volatility(S0, K_call, T, rf, call_price)\n",
    "put_implied_vol = put_option_implied_volatility(S0, K_put, T, rf, put_price)"
   ],
   "id": "b628690db86b3f9",
   "outputs": [],
   "execution_count": 63
  },
  {
   "metadata": {
    "ExecuteTime": {
     "end_time": "2024-11-06T02:46:25.297211Z",
     "start_time": "2024-11-06T02:46:25.294287Z"
    }
   },
   "cell_type": "code",
   "source": [
    "print(\"Implied Volatilities\")\n",
    "print(f\"Call Option Implied Volatility: {round(call_implied_vol, 4)}\")\n",
    "print(f\"Put Option Implied Volatility: {round(put_implied_vol, 4)}\")"
   ],
   "id": "f01e396e3347cf9b",
   "outputs": [
    {
     "name": "stdout",
     "output_type": "stream",
     "text": [
      "Implied Volatilities\n",
      "Call Option Implied Volatility: 0.1803\n",
      "Put Option Implied Volatility: 0.0813\n"
     ]
    }
   ],
   "execution_count": 64
  },
  {
   "metadata": {
    "ExecuteTime": {
     "end_time": "2024-11-06T02:46:25.445475Z",
     "start_time": "2024-11-06T02:46:25.441437Z"
    }
   },
   "cell_type": "code",
   "source": [
    "pd.DataFrame(\n",
    "    {\n",
    "        \"Option Type\": [\"Call\", \"Put\"],\n",
    "        \"Option Price\": [round(call_price, 2), round(put_price, 2)],\n",
    "        \"Implied Volatility\": [round(call_implied_vol, 4), round(put_implied_vol, 4)]\n",
    "    }\n",
    ")"
   ],
   "id": "cc3d91cd72969eaa",
   "outputs": [
    {
     "data": {
      "text/plain": [
       "  Option Type  Option Price  Implied Volatility\n",
       "0        Call          7.00              0.1803\n",
       "1         Put          1.06              0.0813"
      ],
      "text/html": [
       "<div>\n",
       "<style scoped>\n",
       "    .dataframe tbody tr th:only-of-type {\n",
       "        vertical-align: middle;\n",
       "    }\n",
       "\n",
       "    .dataframe tbody tr th {\n",
       "        vertical-align: top;\n",
       "    }\n",
       "\n",
       "    .dataframe thead th {\n",
       "        text-align: right;\n",
       "    }\n",
       "</style>\n",
       "<table border=\"1\" class=\"dataframe\">\n",
       "  <thead>\n",
       "    <tr style=\"text-align: right;\">\n",
       "      <th></th>\n",
       "      <th>Option Type</th>\n",
       "      <th>Option Price</th>\n",
       "      <th>Implied Volatility</th>\n",
       "    </tr>\n",
       "  </thead>\n",
       "  <tbody>\n",
       "    <tr>\n",
       "      <th>0</th>\n",
       "      <td>Call</td>\n",
       "      <td>7.00</td>\n",
       "      <td>0.1803</td>\n",
       "    </tr>\n",
       "    <tr>\n",
       "      <th>1</th>\n",
       "      <td>Put</td>\n",
       "      <td>1.06</td>\n",
       "      <td>0.0813</td>\n",
       "    </tr>\n",
       "  </tbody>\n",
       "</table>\n",
       "</div>"
      ]
     },
     "execution_count": 65,
     "metadata": {},
     "output_type": "execute_result"
    }
   ],
   "execution_count": 65
  },
  {
   "metadata": {},
   "cell_type": "markdown",
   "source": [
    "(b) Which options are cheap or expensive?\n",
    "\n",
    "Based on the model and midpoint of the bid and ask prices, given that the midpoint of call option is 5.38 and model price is 7.08, the call option is cheap. Given that the midpoint of put option is 6.11 and model price is 1.11 (which is concerning regarding model), the put option is expensive."
   ],
   "id": "9c51a554549d5d81"
  },
  {
   "metadata": {
    "ExecuteTime": {
     "end_time": "2024-11-06T02:51:35.013433Z",
     "start_time": "2024-11-06T02:51:33.995613Z"
    }
   },
   "cell_type": "code",
   "source": [
    "import numpy as np\n",
    "\n",
    "S0 = 578.70  \n",
    "simulations = 10000\n",
    "N = len(r)\n",
    "\n",
    "final_prices = np.zeros(simulations)\n",
    "\n",
    "for sim in range(simulations):\n",
    "    S_t = S0\n",
    "    sigma_t_squared = sigma_TGARCH ** 2\n",
    "    \n",
    "    for t in range(15):\n",
    "        Z_t = np.random.normal()\n",
    "        \n",
    "        # Calculate the daily return based on current volatility\n",
    "        daily_return = mu_TGARCH + np.sqrt(sigma_t_squared) * Z_t\n",
    "        S_t = S_t * np.exp(daily_return)\n",
    "        \n",
    "        # Update TGARCH model with simulated return\n",
    "        a_t = daily_return - mu_TGARCH\n",
    "        squared_a_t = a_t ** 2\n",
    "        S_indicator = int(a_t < 0)  # 1 if negative, 0 otherwise\n",
    "\n",
    "        # Update next day's volatility using TGARCH formula\n",
    "        sigma_t_squared = abs(\n",
    "            alpha0_TGARCH +\n",
    "            alpha1_TGARCH * squared_a_t +\n",
    "            gamma1 * S_indicator * squared_a_t +\n",
    "            beta1_TGARCH * sigma_t_squared\n",
    "        )\n",
    "    \n",
    "    # Store the final simulated stock price after 15 days\n",
    "    final_prices[sim] = S_t\n",
    "\n",
    "# Calculate option payoffs\n",
    "call_payoffs_new = np.maximum(final_prices - K_call, 0)\n",
    "put_payoffs_new = np.maximum(K_put - final_prices, 0)\n",
    "\n",
    "# Discount payoffs to present value\n",
    "call_price_new = np.exp(-rf * T) * np.mean(call_payoffs_new)\n",
    "put_price_new = np.exp(-rf * T) * np.mean(put_payoffs_new)\n",
    "\n",
    "# Calculate Black-Scholes implied volatilities\n",
    "call_implied_vol_new = call_option_implied_volatility(S0, K_call, T, rf, call_price_new)\n",
    "put_implied_vol_new = put_option_implied_volatility(S0, K_put, T, rf, put_price_new)\n"
   ],
   "id": "43f67870e2af6146",
   "outputs": [],
   "execution_count": 68
  },
  {
   "metadata": {
    "ExecuteTime": {
     "end_time": "2024-11-06T02:51:35.666471Z",
     "start_time": "2024-11-06T02:51:35.660624Z"
    }
   },
   "cell_type": "code",
   "source": [
    "pd.DataFrame(\n",
    "    {\n",
    "        \"Option Type\": [\"Call\", \"Put\"],\n",
    "        \"Option Price\": [round(call_price_new, 2), round(put_price_new, 2)],\n",
    "        \"Implied Volatility\": [round(call_implied_vol_new, 4), round(put_implied_vol_new, 4)]\n",
    "    }\n",
    ")"
   ],
   "id": "fd161821b3ea7d11",
   "outputs": [
    {
     "data": {
      "text/plain": [
       "  Option Type  Option Price  Implied Volatility\n",
       "0        Call          7.07              0.1840\n",
       "1         Put          1.03              0.0788"
      ],
      "text/html": [
       "<div>\n",
       "<style scoped>\n",
       "    .dataframe tbody tr th:only-of-type {\n",
       "        vertical-align: middle;\n",
       "    }\n",
       "\n",
       "    .dataframe tbody tr th {\n",
       "        vertical-align: top;\n",
       "    }\n",
       "\n",
       "    .dataframe thead th {\n",
       "        text-align: right;\n",
       "    }\n",
       "</style>\n",
       "<table border=\"1\" class=\"dataframe\">\n",
       "  <thead>\n",
       "    <tr style=\"text-align: right;\">\n",
       "      <th></th>\n",
       "      <th>Option Type</th>\n",
       "      <th>Option Price</th>\n",
       "      <th>Implied Volatility</th>\n",
       "    </tr>\n",
       "  </thead>\n",
       "  <tbody>\n",
       "    <tr>\n",
       "      <th>0</th>\n",
       "      <td>Call</td>\n",
       "      <td>7.07</td>\n",
       "      <td>0.1840</td>\n",
       "    </tr>\n",
       "    <tr>\n",
       "      <th>1</th>\n",
       "      <td>Put</td>\n",
       "      <td>1.03</td>\n",
       "      <td>0.0788</td>\n",
       "    </tr>\n",
       "  </tbody>\n",
       "</table>\n",
       "</div>"
      ]
     },
     "execution_count": 69,
     "metadata": {},
     "output_type": "execute_result"
    }
   ],
   "execution_count": 69
  },
  {
   "metadata": {},
   "cell_type": "markdown",
   "source": "Tje new option prices still suggest the same directionality. The call option is still cheap and the put option is still expensive.",
   "id": "3847dd6889d1cfdc"
  },
  {
   "metadata": {},
   "cell_type": "markdown",
   "source": [
    "# Problem 3: Stochastiv Volatility Model with Generalized Method of Moments\n",
    "\n",
    "Consider the following stochastic volatility model:\n",
    "$$r_t = \\mu + \\sigma_t \\epsilon_t$$\n",
    "$$\\ln{\\sigma_t) = \\alpha + \\phi (\\ln{\\sigma_{t-1}} - \\alpha) + \\eta_t$$\n",
    "\n",
    "where $\\epsilon_t \\sim N(0,1) $ and $\\eta_t \\sim N(0, \\sigma_\\eta^2)$\n",
    "\n",
    "Let us denote $$\\beta^2 = \\sigma^2_\\eta/(1-\\phi^2)$$"
   ],
   "id": "369c90770efeda64"
  },
  {
   "metadata": {},
   "cell_type": "markdown",
   "source": [
    "Use the following five moment conditions in the GMM:\n",
    "\n",
    "$$\n",
    "g_1(\\hat{\\theta}) = \\frac{1}{T} \\sum_{t=1}^{T} \\left( |r_t| - \\mathbb{E}[\\sigma_t] \\mathbb{E}[|\\epsilon_t|] \\right)\n",
    "$$\n",
    "\n",
    "$$\n",
    "g_2(\\hat{\\theta}) = \\frac{1}{T} \\sum_{t=1}^{T} \\left( (r_t)^2 - \\mathbb{E}[\\sigma_t^2] \\mathbb{E}[\\epsilon_t^2] \\right)\n",
    "$$\n",
    "\n",
    "$$\n",
    "g_3(\\hat{\\theta}) = \\frac{1}{T} \\sum_{t=1}^{T} \\left( |r_t| |r_{t-1}| - \\mathbb{E}[\\sigma_t \\sigma_{t-1}] \\mathbb{E}[|\\epsilon_t|] \\mathbb{E}[|\\epsilon_{t-1}|] \\right)\n",
    "$$\n",
    "\n",
    "$$\n",
    "g_4(\\hat{\\theta}) = \\frac{1}{T} \\sum_{t=1}^{T} \\left( |r_t| |r_{t-2}| - \\mathbb{E}[\\sigma_t \\sigma_{t-2}] \\mathbb{E}[|\\epsilon_t|] \\mathbb{E}[|\\epsilon_{t-2}|] \\right)\n",
    "$$\n",
    "\n",
    "$$\n",
    "g_5(\\hat{\\theta}) = \\frac{1}{T} \\sum_{t=1}^{T} \\left( (r_t)^2 (r_{t-1})^2 - \\mathbb{E}[\\sigma_t^2 \\sigma_{t-1}^2] \\mathbb{E}[\\epsilon_t^2] \\mathbb{E}[\\epsilon_{t-1}^2] \\right)\n",
    "$$\n"
   ],
   "id": "4100bdbb85acc0c0"
  },
  {
   "metadata": {},
   "cell_type": "markdown",
   "source": "Let us import the data we are estimating the model on.",
   "id": "23c8759cf172aa14"
  },
  {
   "metadata": {
    "ExecuteTime": {
     "end_time": "2024-11-06T03:01:50.580774Z",
     "start_time": "2024-11-06T03:01:50.575194Z"
    }
   },
   "cell_type": "code",
   "source": [
    "ret = pd.read_csv('SV.csv', index_col=0)\n",
    "ret.head()"
   ],
   "id": "fb74a0296a519e8e",
   "outputs": [
    {
     "data": {
      "text/plain": [
       "        ret\n",
       "0  0.015336\n",
       "1  0.000742\n",
       "2 -0.001326\n",
       "3 -0.000365\n",
       "4 -0.008535"
      ],
      "text/html": [
       "<div>\n",
       "<style scoped>\n",
       "    .dataframe tbody tr th:only-of-type {\n",
       "        vertical-align: middle;\n",
       "    }\n",
       "\n",
       "    .dataframe tbody tr th {\n",
       "        vertical-align: top;\n",
       "    }\n",
       "\n",
       "    .dataframe thead th {\n",
       "        text-align: right;\n",
       "    }\n",
       "</style>\n",
       "<table border=\"1\" class=\"dataframe\">\n",
       "  <thead>\n",
       "    <tr style=\"text-align: right;\">\n",
       "      <th></th>\n",
       "      <th>ret</th>\n",
       "    </tr>\n",
       "  </thead>\n",
       "  <tbody>\n",
       "    <tr>\n",
       "      <th>0</th>\n",
       "      <td>0.015336</td>\n",
       "    </tr>\n",
       "    <tr>\n",
       "      <th>1</th>\n",
       "      <td>0.000742</td>\n",
       "    </tr>\n",
       "    <tr>\n",
       "      <th>2</th>\n",
       "      <td>-0.001326</td>\n",
       "    </tr>\n",
       "    <tr>\n",
       "      <th>3</th>\n",
       "      <td>-0.000365</td>\n",
       "    </tr>\n",
       "    <tr>\n",
       "      <th>4</th>\n",
       "      <td>-0.008535</td>\n",
       "    </tr>\n",
       "  </tbody>\n",
       "</table>\n",
       "</div>"
      ]
     },
     "execution_count": 78,
     "metadata": {},
     "output_type": "execute_result"
    }
   ],
   "execution_count": 78
  },
  {
   "metadata": {},
   "cell_type": "markdown",
   "source": "Now substitute the parameters into the moment conditions and calculate the objective function.",
   "id": "5775853dfb63ceb1"
  },
  {
   "metadata": {
    "ExecuteTime": {
     "end_time": "2024-11-06T03:38:04.848315Z",
     "start_time": "2024-11-06T03:38:04.560771Z"
    }
   },
   "cell_type": "code",
   "source": [
    "import numpy as np\n",
    "from scipy.optimize import minimize\n",
    "\n",
    "T = len(ret)\n",
    "\n",
    "initial_params = np.array([0.0, 0.9, 0.2])\n",
    "\n",
    "E_abs_epsilon = np.sqrt(2 / np.pi)\n",
    "E_abs_epsilon_sq = 1 \n",
    "\n",
    "def calculate_expectations(alpha, phi, beta):\n",
    "    E_sigma = np.exp(alpha + 0.5 * beta**2)\n",
    "    E_sigma_sq = np.exp(2 * alpha + 2 * beta**2)\n",
    "    E_sigma_sigma_lag1 = np.exp(2 * alpha + beta**2 * (1 + phi**1))\n",
    "    E_sigma_sigma_lag2 = np.exp(2 * alpha + beta**2 * (1 + phi**2))\n",
    "    E_sigma_sq_sigma_sq_lag = np.exp(4 * alpha + 4 * beta**2 * (1 + phi**1))\n",
    "    \n",
    "    return E_sigma, E_sigma_sq, E_sigma_sigma_lag1, E_sigma_sigma_lag2, E_sigma_sq_sigma_sq_lag\n",
    "\n",
    "\n",
    "def moment_conditions(params, returns):\n",
    "    alpha, phi, beta = params\n",
    "\n",
    "    # Calculate the expectations based on alpha, phi, and beta\n",
    "    E_sigma, E_sigma_sq, E_sigma_sigma_lag1, E_sigma_sigma_lag2, E_sigma_sq_sigma_sq_lag = calculate_expectations(alpha, phi, beta)\n",
    "\n",
    "    # Calculate sample moments based on the data\n",
    "    abs_returns = np.abs(returns)\n",
    "    squared_returns = returns**2\n",
    "\n",
    "    # Moment conditions\n",
    "    g1 = np.mean(abs_returns) - E_sigma * E_abs_epsilon \n",
    "    g2 = np.mean(squared_returns) - E_sigma_sq * E_abs_epsilon_sq \n",
    "    g3 = np.mean(abs_returns[1:] * abs_returns[:-1]) - E_sigma_sigma_lag1 * E_abs_epsilon * E_abs_epsilon \n",
    "    g4 = np.mean(abs_returns[2:] * abs_returns[:-2]) - E_sigma_sigma_lag2 * E_abs_epsilon * E_abs_epsilon  \n",
    "    g5 = np.mean(squared_returns[1:] * squared_returns[:-1]) - E_sigma_sq_sigma_sq_lag * E_abs_epsilon_sq * E_abs_epsilon_sq  \n",
    "\n",
    "    moments = np.array([g1, g2, g3, g4, g5])\n",
    "    return moments\n",
    "\n",
    "def gmm_objective(theta, returns):\n",
    "    moments = moment_conditions(theta, returns)\n",
    "    objective = np.dot(moments, moments)  # Sum of squared moments\n",
    "    return objective\n",
    "\n",
    "result = minimize(gmm_objective, initial_params, args=(ret,), method='BFGS')\n",
    "\n",
    "theta_estimated = result.x\n",
    "print(\"Estimated parameters:\", theta_estimated)\n",
    "print(\"Objective function value:\", result.fun)\n"
   ],
   "id": "f49beb5f1b3aa06a",
   "outputs": [
    {
     "name": "stdout",
     "output_type": "stream",
     "text": [
      "Estimated parameters: [-6.55298807  0.53882563  1.72468593]\n",
      "Objective function value: 9.990616563995977e-07\n"
     ]
    }
   ],
   "execution_count": 93
  },
  {
   "metadata": {
    "ExecuteTime": {
     "end_time": "2024-11-06T03:38:04.850730Z",
     "start_time": "2024-11-06T03:38:04.849148Z"
    }
   },
   "cell_type": "code",
   "source": "alpha, phi, beta = theta_estimated",
   "id": "2ce31b410b900a2e",
   "outputs": [],
   "execution_count": 94
  },
  {
   "metadata": {
    "ExecuteTime": {
     "end_time": "2024-11-06T03:38:05.315761Z",
     "start_time": "2024-11-06T03:38:05.311897Z"
    }
   },
   "cell_type": "code",
   "source": [
    "pd.DataFrame(\n",
    "    {\n",
    "        \"Estimated Parameters\": theta_estimated\n",
    "    },\n",
    "    index=[\"alpha\", \"phi\", \"beta\"]\n",
    ")"
   ],
   "id": "43a461a16179d985",
   "outputs": [
    {
     "data": {
      "text/plain": [
       "       Estimated Parameters\n",
       "alpha             -6.552988\n",
       "phi                0.538826\n",
       "beta               1.724686"
      ],
      "text/html": [
       "<div>\n",
       "<style scoped>\n",
       "    .dataframe tbody tr th:only-of-type {\n",
       "        vertical-align: middle;\n",
       "    }\n",
       "\n",
       "    .dataframe tbody tr th {\n",
       "        vertical-align: top;\n",
       "    }\n",
       "\n",
       "    .dataframe thead th {\n",
       "        text-align: right;\n",
       "    }\n",
       "</style>\n",
       "<table border=\"1\" class=\"dataframe\">\n",
       "  <thead>\n",
       "    <tr style=\"text-align: right;\">\n",
       "      <th></th>\n",
       "      <th>Estimated Parameters</th>\n",
       "    </tr>\n",
       "  </thead>\n",
       "  <tbody>\n",
       "    <tr>\n",
       "      <th>alpha</th>\n",
       "      <td>-6.552988</td>\n",
       "    </tr>\n",
       "    <tr>\n",
       "      <th>phi</th>\n",
       "      <td>0.538826</td>\n",
       "    </tr>\n",
       "    <tr>\n",
       "      <th>beta</th>\n",
       "      <td>1.724686</td>\n",
       "    </tr>\n",
       "  </tbody>\n",
       "</table>\n",
       "</div>"
      ]
     },
     "execution_count": 95,
     "metadata": {},
     "output_type": "execute_result"
    }
   ],
   "execution_count": 95
  }
 ],
 "metadata": {
  "kernelspec": {
   "display_name": "Python 3",
   "language": "python",
   "name": "python3"
  },
  "language_info": {
   "codemirror_mode": {
    "name": "ipython",
    "version": 2
   },
   "file_extension": ".py",
   "mimetype": "text/x-python",
   "name": "python",
   "nbconvert_exporter": "python",
   "pygments_lexer": "ipython2",
   "version": "2.7.6"
  }
 },
 "nbformat": 4,
 "nbformat_minor": 5
}
