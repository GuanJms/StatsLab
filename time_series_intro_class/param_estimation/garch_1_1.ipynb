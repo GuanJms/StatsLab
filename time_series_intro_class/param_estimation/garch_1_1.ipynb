{
 "cells": [
  {
   "cell_type": "markdown",
   "source": [
    "# GARCH(1, 1) model\n",
    "\n",
    "Following the slides, given that $r_t = \\mu + \\sigma_t \\epsilon_t$,\n",
    "\n",
    "$$\\sigma_t^2 = \\alpha_0 + \\alpha_1 a_{t-1}^2 + \\beta_1 \\sigma_{t-1}^2,$$\n",
    "    \n",
    "where $a_t = \\sigma_t \\epsilon_t$."
   ],
   "metadata": {
    "collapsed": false
   },
   "id": "8c6b6cfc7d4abe1f"
  },
  {
   "cell_type": "markdown",
   "source": [
    "(a) Estimate the parameters of a GARCH(1,1) model"
   ],
   "metadata": {
    "collapsed": false
   },
   "id": "42d60723c107443e"
  },
  {
   "cell_type": "markdown",
   "source": [
    "Given a parameter set $\\mathbf{\\theta} = \\{\\theta, \\sigma_0, \\mu, \\alpha_0, \\alpha_1, \\beta_1\\}$ and a sequence of stock return $\\{r_t\\}$, we can first calculate $\\{a_t\\}$.\n",
    "\n",
    "And based on $\\sigma_t^2 = \\alpha_0 + \\alpha_1 a_{t-1}^2 + \\beta_1 \\sigma_{t-1}^2$ with our parameter set, we can calculate $\\{ \\sigma_t \\}$.\n",
    "\n",
    "Then, from class we have, the log-likelihood of GARCH(1,1) as,\n",
    "$$\n",
    "\\ln \\mathcal{L}(\\sigma_0, \\alpha_0, \\alpha_1, \\beta_1, \\mu \\mid r_1, r_2, \\dots, r_T) = -\\frac{T}{2} \\ln(2 \\pi) - \\frac{1}{2} \\sum_{i=1}^T \\ln \\sigma_i^2 - \\frac{1}{2} \\sum_{i=1}^T \\left(\\frac{(r_i - \\mu)^2}{\\sigma_i^2}\\right)\n",
    "$$"
   ],
   "metadata": {
    "collapsed": false
   },
   "id": "4eb31828d47d80a5"
  },
  {
   "cell_type": "markdown",
   "source": [
    "Download SPY and calculate daily return and store them into a pickle file."
   ],
   "metadata": {
    "collapsed": false
   },
   "id": "e4b018ca96117129"
  },
  {
   "cell_type": "code",
   "execution_count": 87,
   "outputs": [],
   "source": [
    "import yfinance as yf\n",
    "import pandas as pd\n",
    "import numpy as np\n",
    "import pickle\n",
    "from datetime import datetime, timedelta"
   ],
   "metadata": {
    "collapsed": false,
    "ExecuteTime": {
     "end_time": "2024-10-29T01:42:55.755492Z",
     "start_time": "2024-10-29T01:42:55.749773Z"
    }
   },
   "id": "c6c0479d9b11a5c0"
  },
  {
   "cell_type": "code",
   "execution_count": 88,
   "outputs": [
    {
     "name": "stdout",
     "output_type": "stream",
     "text": [
      "[*********************100%%**********************]  1 of 1 completed\n",
      "Data saved to spy_daily_returns.pkl\n"
     ]
    }
   ],
   "source": [
    "spy_data = yf.download(\"SPY\", start=\"2015-01-02\", end=\"2024-10-26\")\n",
    "spy_data['Daily Return'] = spy_data['Adj Close'].pct_change()\n",
    "spy_data.dropna(inplace=True)\n",
    "\n",
    "with open(\"spy_daily_returns.pkl\", \"wb\") as f:\n",
    "    pickle.dump(spy_data['Daily Return'], f)\n",
    "\n",
    "print(\"Data saved to spy_daily_returns.pkl\")"
   ],
   "metadata": {
    "collapsed": false,
    "ExecuteTime": {
     "end_time": "2024-10-29T01:42:56.369379Z",
     "start_time": "2024-10-29T01:42:55.871046Z"
    }
   },
   "id": "b0235a323f1a44dd"
  },
  {
   "cell_type": "code",
   "execution_count": 89,
   "outputs": [
    {
     "data": {
      "text/plain": "            Daily Return\nDate                    \n2015-01-05     -0.018060\n2015-01-06     -0.009419\n2015-01-07      0.012461\n2015-01-08      0.017745\n2015-01-09     -0.008014",
      "text/html": "<div>\n<style scoped>\n    .dataframe tbody tr th:only-of-type {\n        vertical-align: middle;\n    }\n\n    .dataframe tbody tr th {\n        vertical-align: top;\n    }\n\n    .dataframe thead th {\n        text-align: right;\n    }\n</style>\n<table border=\"1\" class=\"dataframe\">\n  <thead>\n    <tr style=\"text-align: right;\">\n      <th></th>\n      <th>Daily Return</th>\n    </tr>\n    <tr>\n      <th>Date</th>\n      <th></th>\n    </tr>\n  </thead>\n  <tbody>\n    <tr>\n      <th>2015-01-05</th>\n      <td>-0.018060</td>\n    </tr>\n    <tr>\n      <th>2015-01-06</th>\n      <td>-0.009419</td>\n    </tr>\n    <tr>\n      <th>2015-01-07</th>\n      <td>0.012461</td>\n    </tr>\n    <tr>\n      <th>2015-01-08</th>\n      <td>0.017745</td>\n    </tr>\n    <tr>\n      <th>2015-01-09</th>\n      <td>-0.008014</td>\n    </tr>\n  </tbody>\n</table>\n</div>"
     },
     "execution_count": 89,
     "metadata": {},
     "output_type": "execute_result"
    }
   ],
   "source": [
    "# Load the pickle file\n",
    "with open(\"spy_daily_returns.pkl\", \"rb\") as f:\n",
    "    spy_daily_returns = pickle.load(f)\n",
    "\n",
    "# Convert to DataFrame if it's not already one\n",
    "if not isinstance(spy_daily_returns, pd.DataFrame):\n",
    "    spy_daily_returns = pd.DataFrame(spy_daily_returns)\n",
    "\n",
    "spy_daily_returns.head()"
   ],
   "metadata": {
    "collapsed": false,
    "ExecuteTime": {
     "end_time": "2024-10-29T01:42:57.452227Z",
     "start_time": "2024-10-29T01:42:57.448830Z"
    }
   },
   "id": "bdde89311e8d6c15"
  },
  {
   "cell_type": "code",
   "execution_count": 91,
   "outputs": [],
   "source": [
    "r = spy_daily_returns.values\n",
    "time_index = spy_daily_returns.index"
   ],
   "metadata": {
    "collapsed": false,
    "ExecuteTime": {
     "end_time": "2024-10-29T01:43:07.311814Z",
     "start_time": "2024-10-29T01:43:07.304594Z"
    }
   },
   "id": "a9cf07d0f8b463c7"
  },
  {
   "cell_type": "code",
   "execution_count": 92,
   "outputs": [],
   "source": [
    "def neg_likelihood_func(r, mu, sigma):\n",
    "    var = sigma ** 2\n",
    "    val = (np.sum((r - mu) ** 2 / var) + 0.5 * np.log(\n",
    "        var).sum())  # Dropping out constant term since it doesnt matter to have that\n",
    "    return val"
   ],
   "metadata": {
    "collapsed": false,
    "ExecuteTime": {
     "end_time": "2024-10-29T01:43:07.907025Z",
     "start_time": "2024-10-29T01:43:07.893179Z"
    }
   },
   "id": "f127bcb78462c699"
  },
  {
   "cell_type": "code",
   "execution_count": 93,
   "outputs": [
    {
     "name": "stderr",
     "output_type": "stream",
     "text": [
      "/var/folders/tk/r1y674y91sg61lq0_q0y326h0000gn/T/ipykernel_71729/3305024071.py:11: RuntimeWarning: overflow encountered in multiply\n",
      "  sigma[i] = alpha0 + alpha1 * squared_a[i - 1] + beta1 * sigma[i - 1]\n",
      "/var/folders/tk/r1y674y91sg61lq0_q0y326h0000gn/T/ipykernel_71729/2958338494.py:2: RuntimeWarning: overflow encountered in square\n",
      "  var = sigma ** 2\n"
     ]
    },
    {
     "name": "stdout",
     "output_type": "stream",
     "text": [
      "Optimized Parameters: [ 3.40509101e-02  5.32370226e+00 -9.19589587e-01  3.78026481e-03\n",
      "  1.01424409e-01]\n",
      "Minimum Negative Log-Likelihood: -8694.085290640227\n"
     ]
    }
   ],
   "source": [
    "from scipy.optimize import minimize\n",
    "\n",
    "def neg_likelihood_func_with_params(params):\n",
    "    alpha0, alpha1, beta1, mu, sigma0 = params\n",
    "    N = len(r)\n",
    "    sigma = np.zeros((N, 1))\n",
    "    sigma[0] = sigma0\n",
    "    a = r - mu\n",
    "    squared_a = a ** 2\n",
    "    for i in range(1, N):\n",
    "        sigma[i] = alpha0 + alpha1 * squared_a[i - 1] + beta1 * sigma[i - 1]\n",
    "    neg_log_val = neg_likelihood_func(r, mu, sigma)\n",
    "    return neg_log_val\n",
    "\n",
    "\n",
    "x0 = [np.std(r), 0.1, 0.1, np.mean(r), np.std(r)]\n",
    "result = minimize(neg_likelihood_func_with_params, x0, method='SLSQP', tol=1e-6)\n",
    "\n",
    "print(\"Optimized Parameters:\", result.x)\n",
    "print(\"Minimum Negative Log-Likelihood:\", result.fun)"
   ],
   "metadata": {
    "collapsed": false,
    "ExecuteTime": {
     "end_time": "2024-10-29T01:43:11.481759Z",
     "start_time": "2024-10-29T01:43:08.537273Z"
    }
   },
   "id": "4afe1d1e42301e35"
  },
  {
   "cell_type": "markdown",
   "source": [],
   "metadata": {
    "collapsed": false
   },
   "id": "f1d577687c4dbcd8"
  },
  {
   "cell_type": "code",
   "execution_count": null,
   "outputs": [],
   "source": [],
   "metadata": {
    "collapsed": false
   },
   "id": "a3567b84ddf18a3b"
  }
 ],
 "metadata": {
  "kernelspec": {
   "display_name": "Python 3",
   "language": "python",
   "name": "python3"
  },
  "language_info": {
   "codemirror_mode": {
    "name": "ipython",
    "version": 2
   },
   "file_extension": ".py",
   "mimetype": "text/x-python",
   "name": "python",
   "nbconvert_exporter": "python",
   "pygments_lexer": "ipython2",
   "version": "2.7.6"
  }
 },
 "nbformat": 4,
 "nbformat_minor": 5
}
