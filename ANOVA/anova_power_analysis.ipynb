{
 "cells": [
  {
   "metadata": {},
   "cell_type": "markdown",
   "source": "# Power Analysis for ANOVA",
   "id": "d4bccfb723649d17"
  },
  {
   "metadata": {
    "ExecuteTime": {
     "end_time": "2024-10-16T22:07:34.965124Z",
     "start_time": "2024-10-16T22:07:31.888913Z"
    }
   },
   "cell_type": "code",
   "source": [
    "import numpy as np\n",
    "import pandas as pd\n",
    "from scipy.stats import f_oneway\n",
    "from numpy.random import multivariate_normal\n",
    "import statsmodels.api as sm\n",
    "from statsmodels.formula.api import ols\n",
    "\n",
    "# Simulation parameters\n",
    "np.random.seed(42)  # for reproducibility\n",
    "n_groups = 3  # Number of groups\n",
    "n_samples = 50  # Number of samples per group\n",
    "n_simulations = 1000  # Number of simulations\n",
    "alpha = 0.05  # Significance level\n",
    "\n",
    "# Define the means and covariance matrix for the groups\n",
    "means = [0, 1, 2]  # Mean for each group\n",
    "cov_matrix = np.array([[1, 0.5, 0.2],\n",
    "                       [0.5, 1, 0.3],\n",
    "                       [0.2, 0.3, 1]])  # Covariance matrix\n",
    "\n",
    "# Function to simulate data\n",
    "def simulate_data(means, cov_matrix, n_samples, n_groups):\n",
    "    data = []\n",
    "    group_labels = []\n",
    "    for i in range(n_groups):\n",
    "        group_data = multivariate_normal(mean=[means[i]]*n_samples, cov=cov_matrix, size=n_samples).T\n",
    "        data.append(group_data)\n",
    "        group_labels += [i] * n_samples\n",
    "    return np.concatenate(data, axis=0), group_labels\n",
    "\n",
    "# Function to perform ANOVA test\n",
    "def run_anova(data, labels):\n",
    "    df = pd.DataFrame({\"data\": data, \"group\": labels})\n",
    "    model = ols('data ~ C(group)', data=df).fit()\n",
    "    anova_table = sm.stats.anova_lm(model, typ=2)\n",
    "    p_value = anova_table['PR(>F)'][0]\n",
    "    return p_value\n",
    "\n",
    "# Function to conduct power analysis\n",
    "def power_analysis(n_simulations, means, cov_matrix, n_samples, n_groups, alpha):\n",
    "    false_negative_count = 0\n",
    "    for _ in range(n_simulations):\n",
    "        data, labels = simulate_data(means, cov_matrix, n_samples, n_groups)\n",
    "        p_value = run_anova(data, labels)\n",
    "        \n",
    "        # If there is a difference in group means but ANOVA doesn't detect it, increase false negatives\n",
    "        if p_value > alpha:\n",
    "            false_negative_count += 1\n",
    "    \n",
    "    power = false_negative_count / n_simulations\n",
    "    return power\n",
    "\n",
    "# Run the simulation and power analysis\n",
    "power = power_analysis(n_simulations, means, cov_matrix, n_samples, n_groups, alpha)\n",
    "print(f\"Power (Percentage of times ANOVA didn't detect a significant difference): {power*100:.2f}%\")\n"
   ],
   "id": "df0e4ff97400d057",
   "outputs": [
    {
     "ename": "ValueError",
     "evalue": "mean and cov must have same length",
     "output_type": "error",
     "traceback": [
      "\u001B[0;31m---------------------------------------------------------------------------\u001B[0m",
      "\u001B[0;31mValueError\u001B[0m                                Traceback (most recent call last)",
      "Cell \u001B[0;32mIn[1], line 54\u001B[0m\n\u001B[1;32m     51\u001B[0m     \u001B[38;5;28;01mreturn\u001B[39;00m power\n\u001B[1;32m     53\u001B[0m \u001B[38;5;66;03m# Run the simulation and power analysis\u001B[39;00m\n\u001B[0;32m---> 54\u001B[0m power \u001B[38;5;241m=\u001B[39m power_analysis(n_simulations, means, cov_matrix, n_samples, n_groups, alpha)\n\u001B[1;32m     55\u001B[0m \u001B[38;5;28mprint\u001B[39m(\u001B[38;5;124mf\u001B[39m\u001B[38;5;124m\"\u001B[39m\u001B[38;5;124mPower (Percentage of times ANOVA didn\u001B[39m\u001B[38;5;124m'\u001B[39m\u001B[38;5;124mt detect a significant difference): \u001B[39m\u001B[38;5;132;01m{\u001B[39;00mpower\u001B[38;5;241m*\u001B[39m\u001B[38;5;241m100\u001B[39m\u001B[38;5;132;01m:\u001B[39;00m\u001B[38;5;124m.2f\u001B[39m\u001B[38;5;132;01m}\u001B[39;00m\u001B[38;5;124m%\u001B[39m\u001B[38;5;124m\"\u001B[39m)\n",
      "Cell \u001B[0;32mIn[1], line 43\u001B[0m, in \u001B[0;36mpower_analysis\u001B[0;34m(n_simulations, means, cov_matrix, n_samples, n_groups, alpha)\u001B[0m\n\u001B[1;32m     41\u001B[0m false_negative_count \u001B[38;5;241m=\u001B[39m \u001B[38;5;241m0\u001B[39m\n\u001B[1;32m     42\u001B[0m \u001B[38;5;28;01mfor\u001B[39;00m _ \u001B[38;5;129;01min\u001B[39;00m \u001B[38;5;28mrange\u001B[39m(n_simulations):\n\u001B[0;32m---> 43\u001B[0m     data, labels \u001B[38;5;241m=\u001B[39m simulate_data(means, cov_matrix, n_samples, n_groups)\n\u001B[1;32m     44\u001B[0m     p_value \u001B[38;5;241m=\u001B[39m run_anova(data, labels)\n\u001B[1;32m     46\u001B[0m     \u001B[38;5;66;03m# If there is a difference in group means but ANOVA doesn't detect it, increase false negatives\u001B[39;00m\n",
      "Cell \u001B[0;32mIn[1], line 26\u001B[0m, in \u001B[0;36msimulate_data\u001B[0;34m(means, cov_matrix, n_samples, n_groups)\u001B[0m\n\u001B[1;32m     24\u001B[0m group_labels \u001B[38;5;241m=\u001B[39m []\n\u001B[1;32m     25\u001B[0m \u001B[38;5;28;01mfor\u001B[39;00m i \u001B[38;5;129;01min\u001B[39;00m \u001B[38;5;28mrange\u001B[39m(n_groups):\n\u001B[0;32m---> 26\u001B[0m     group_data \u001B[38;5;241m=\u001B[39m multivariate_normal(mean\u001B[38;5;241m=\u001B[39m[means[i]]\u001B[38;5;241m*\u001B[39mn_samples, cov\u001B[38;5;241m=\u001B[39mcov_matrix, size\u001B[38;5;241m=\u001B[39mn_samples)\u001B[38;5;241m.\u001B[39mT\n\u001B[1;32m     27\u001B[0m     data\u001B[38;5;241m.\u001B[39mappend(group_data)\n\u001B[1;32m     28\u001B[0m     group_labels \u001B[38;5;241m+\u001B[39m\u001B[38;5;241m=\u001B[39m [i] \u001B[38;5;241m*\u001B[39m n_samples\n",
      "File \u001B[0;32mmtrand.pyx:4193\u001B[0m, in \u001B[0;36mnumpy.random.mtrand.RandomState.multivariate_normal\u001B[0;34m()\u001B[0m\n",
      "\u001B[0;31mValueError\u001B[0m: mean and cov must have same length"
     ]
    }
   ],
   "execution_count": 1
  },
  {
   "metadata": {},
   "cell_type": "code",
   "outputs": [],
   "execution_count": null,
   "source": "",
   "id": "89049a840487e05f"
  },
  {
   "metadata": {},
   "cell_type": "markdown",
   "source": "",
   "id": "d030932f23132b32"
  }
 ],
 "metadata": {
  "kernelspec": {
   "display_name": "Python 3",
   "language": "python",
   "name": "python3"
  },
  "language_info": {
   "codemirror_mode": {
    "name": "ipython",
    "version": 2
   },
   "file_extension": ".py",
   "mimetype": "text/x-python",
   "name": "python",
   "nbconvert_exporter": "python",
   "pygments_lexer": "ipython2",
   "version": "2.7.6"
  }
 },
 "nbformat": 4,
 "nbformat_minor": 5
}
